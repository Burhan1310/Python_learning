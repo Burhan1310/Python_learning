{
 "cells": [
  {
   "cell_type": "markdown",
   "id": "782969f3-9b32-4022-bd29-f7561a9e7a38",
   "metadata": {},
   "source": [
    "# Python Break Statement"
   ]
  },
  {
   "cell_type": "code",
   "execution_count": 2,
   "id": "6c0fb678-2183-4d7d-a9d1-24851c629a6b",
   "metadata": {},
   "outputs": [
    {
     "name": "stdout",
     "output_type": "stream",
     "text": [
      "0\n",
      "1\n",
      "2\n",
      "3\n",
      "4\n"
     ]
    }
   ],
   "source": [
    "for i in range(10):\n",
    "    if i ==5:\n",
    "        break  # stop\n",
    "    print(i)"
   ]
  },
  {
   "cell_type": "code",
   "execution_count": 3,
   "id": "49eb9234-ce72-4c35-b092-23247da1a173",
   "metadata": {},
   "outputs": [
    {
     "name": "stdout",
     "output_type": "stream",
     "text": [
      "1\n"
     ]
    }
   ],
   "source": [
    "for i in range(1,5):\n",
    "    if i%2==0:\n",
    "        break  # stop\n",
    "    print(i)"
   ]
  },
  {
   "cell_type": "markdown",
   "id": "2e7c3907-04b9-4a71-93e8-6a06797573cd",
   "metadata": {},
   "source": [
    "# Continue Statement"
   ]
  },
  {
   "cell_type": "code",
   "execution_count": 5,
   "id": "acaca325-c1b3-42b4-a852-2a506bbb5b56",
   "metadata": {},
   "outputs": [
    {
     "name": "stdout",
     "output_type": "stream",
     "text": [
      "a\n",
      "b\n",
      "r\n"
     ]
    }
   ],
   "source": [
    "data = ['a','b','d','r']\n",
    "\n",
    "for x in data:\n",
    "    if x == 'd':\n",
    "        continue  #skip\n",
    "    print(x)"
   ]
  },
  {
   "cell_type": "markdown",
   "id": "d7d39155-9688-41ab-bdd7-fe5435c06168",
   "metadata": {},
   "source": [
    "# Python Data Structure"
   ]
  },
  {
   "cell_type": "markdown",
   "id": "d6b4bceb-de50-4233-8586-cd30ed8aaa42",
   "metadata": {},
   "source": [
    "## 1. Lists in Python"
   ]
  },
  {
   "cell_type": "markdown",
   "id": "574bb4dd-f685-4488-a2a7-563b06dca41c",
   "metadata": {},
   "source": [
    "A list is an ordered, changeable, mutable collection of elements. It also allowed duplicates. Lists can contain elements of different types."
   ]
  },
  {
   "cell_type": "code",
   "execution_count": 9,
   "id": "c94a544f-0af0-4324-a3d1-0dfa2f8db69e",
   "metadata": {},
   "outputs": [
    {
     "name": "stdout",
     "output_type": "stream",
     "text": [
      "['ai', 'ds', 'da', 'nlp']\n"
     ]
    }
   ],
   "source": [
    "dept = [\"ai\", \"ds\", \"da\", \"nlp\"]\n",
    "print(dept)"
   ]
  },
  {
   "cell_type": "code",
   "execution_count": 10,
   "id": "cd24b6d8-a11e-49f7-99fa-51a2af699186",
   "metadata": {},
   "outputs": [
    {
     "name": "stdout",
     "output_type": "stream",
     "text": [
      "['ai', 'ds', 'da', 'nlp', 9, (2, 56, 7, 3), 1, 2, 3, True, False]\n"
     ]
    }
   ],
   "source": [
    "dept = [\"ai\", \"ds\", \"da\", \"nlp\",9,(2,56,7,3), 1, 2,3,True,False]\n",
    "print(dept)"
   ]
  },
  {
   "cell_type": "code",
   "execution_count": 11,
   "id": "bd92e35b-64e4-4b87-a683-c0edc89f9dff",
   "metadata": {},
   "outputs": [
    {
     "data": {
      "text/plain": [
       "list"
      ]
     },
     "execution_count": 11,
     "metadata": {},
     "output_type": "execute_result"
    }
   ],
   "source": [
    "type(dept)"
   ]
  },
  {
   "cell_type": "code",
   "execution_count": 12,
   "id": "4770e1bb-e533-4061-b98d-53e093a120d2",
   "metadata": {},
   "outputs": [
    {
     "data": {
      "text/plain": [
       "'ai'"
      ]
     },
     "execution_count": 12,
     "metadata": {},
     "output_type": "execute_result"
    }
   ],
   "source": [
    "dept[0]"
   ]
  },
  {
   "cell_type": "code",
   "execution_count": 13,
   "id": "cd79967e-ab7e-4db6-bf11-578922fe1c7c",
   "metadata": {},
   "outputs": [
    {
     "data": {
      "text/plain": [
       "False"
      ]
     },
     "execution_count": 13,
     "metadata": {},
     "output_type": "execute_result"
    }
   ],
   "source": [
    "dept[-1]"
   ]
  },
  {
   "cell_type": "code",
   "execution_count": 14,
   "id": "4d217c99-ca76-4666-b9e4-a22abd651f81",
   "metadata": {},
   "outputs": [
    {
     "data": {
      "text/plain": [
       "(2, 56, 7, 3)"
      ]
     },
     "execution_count": 14,
     "metadata": {},
     "output_type": "execute_result"
    }
   ],
   "source": [
    "dept[-6]"
   ]
  },
  {
   "cell_type": "code",
   "execution_count": 15,
   "id": "c011f738-7405-4164-a45c-71bd5fb79118",
   "metadata": {},
   "outputs": [
    {
     "data": {
      "text/plain": [
       "7"
      ]
     },
     "execution_count": 15,
     "metadata": {},
     "output_type": "execute_result"
    }
   ],
   "source": [
    "dept[-6][2]"
   ]
  },
  {
   "cell_type": "code",
   "execution_count": 16,
   "id": "3e5f48df-63b6-46bf-a2e2-e466f8d16566",
   "metadata": {},
   "outputs": [
    {
     "data": {
      "text/plain": [
       "['da', 'nlp', 9, (2, 56, 7, 3), 1]"
      ]
     },
     "execution_count": 16,
     "metadata": {},
     "output_type": "execute_result"
    }
   ],
   "source": [
    "dept[2:7]"
   ]
  },
  {
   "cell_type": "code",
   "execution_count": 17,
   "id": "65ae368b-403c-402b-a5f1-02515566ba23",
   "metadata": {},
   "outputs": [
    {
     "data": {
      "text/plain": [
       "152"
      ]
     },
     "execution_count": 17,
     "metadata": {},
     "output_type": "execute_result"
    }
   ],
   "source": [
    "import sys\n",
    "sys.getsizeof(dept)"
   ]
  },
  {
   "cell_type": "markdown",
   "id": "40bfb114-d1d2-4245-ad84-6ae054c0063a",
   "metadata": {},
   "source": [
    "## Common List Method in Python"
   ]
  },
  {
   "cell_type": "code",
   "execution_count": 19,
   "id": "b245b605-a13d-4cd5-a49f-c6f674746130",
   "metadata": {},
   "outputs": [],
   "source": [
    "x = ['ai', 'ds','da', 'nlp', 1, 2, 3,4, True , False, [1,2,3],{1,3,5}]"
   ]
  },
  {
   "cell_type": "code",
   "execution_count": 20,
   "id": "8c4f567d-97df-4587-8f16-5afe012a8ea1",
   "metadata": {},
   "outputs": [],
   "source": [
    "x.append('Burhan')"
   ]
  },
  {
   "cell_type": "code",
   "execution_count": 21,
   "id": "3e1cd03d-47e4-4a53-b689-de69202aeb1f",
   "metadata": {},
   "outputs": [
    {
     "data": {
      "text/plain": [
       "['ai',\n",
       " 'ds',\n",
       " 'da',\n",
       " 'nlp',\n",
       " 1,\n",
       " 2,\n",
       " 3,\n",
       " 4,\n",
       " True,\n",
       " False,\n",
       " [1, 2, 3],\n",
       " {1, 3, 5},\n",
       " 'Burhan']"
      ]
     },
     "execution_count": 21,
     "metadata": {},
     "output_type": "execute_result"
    }
   ],
   "source": [
    "x"
   ]
  },
  {
   "cell_type": "code",
   "execution_count": 22,
   "id": "1b8a2154-bc0a-4674-95af-583d02b4afb5",
   "metadata": {},
   "outputs": [],
   "source": [
    "x.insert(4,'Joy')"
   ]
  },
  {
   "cell_type": "code",
   "execution_count": 23,
   "id": "5f0b4e61-38b7-4e72-814d-7ff692313a54",
   "metadata": {},
   "outputs": [
    {
     "data": {
      "text/plain": [
       "['ai',\n",
       " 'ds',\n",
       " 'da',\n",
       " 'nlp',\n",
       " 'Joy',\n",
       " 1,\n",
       " 2,\n",
       " 3,\n",
       " 4,\n",
       " True,\n",
       " False,\n",
       " [1, 2, 3],\n",
       " {1, 3, 5},\n",
       " 'Burhan']"
      ]
     },
     "execution_count": 23,
     "metadata": {},
     "output_type": "execute_result"
    }
   ],
   "source": [
    "x"
   ]
  },
  {
   "cell_type": "code",
   "execution_count": 24,
   "id": "55d234c7-a4e7-4868-bc3b-f1450253736e",
   "metadata": {},
   "outputs": [],
   "source": [
    "x.remove(2)"
   ]
  },
  {
   "cell_type": "code",
   "execution_count": 25,
   "id": "acc04614-ec0a-46d4-b00a-1ca03a010f1c",
   "metadata": {},
   "outputs": [
    {
     "data": {
      "text/plain": [
       "['ai',\n",
       " 'ds',\n",
       " 'da',\n",
       " 'nlp',\n",
       " 'Joy',\n",
       " 1,\n",
       " 3,\n",
       " 4,\n",
       " True,\n",
       " False,\n",
       " [1, 2, 3],\n",
       " {1, 3, 5},\n",
       " 'Burhan']"
      ]
     },
     "execution_count": 25,
     "metadata": {},
     "output_type": "execute_result"
    }
   ],
   "source": [
    "x"
   ]
  },
  {
   "cell_type": "code",
   "execution_count": 26,
   "id": "40583833-890b-42bd-aba2-70e04fdbd0de",
   "metadata": {},
   "outputs": [
    {
     "data": {
      "text/plain": [
       "1"
      ]
     },
     "execution_count": 26,
     "metadata": {},
     "output_type": "execute_result"
    }
   ],
   "source": [
    "x.pop(5)"
   ]
  },
  {
   "cell_type": "code",
   "execution_count": 27,
   "id": "71634328-a4bd-492f-b7bf-af144f5db8cd",
   "metadata": {},
   "outputs": [],
   "source": [
    "del x[0]"
   ]
  },
  {
   "cell_type": "code",
   "execution_count": 28,
   "id": "ab20a639-87ed-4be3-9195-8d3332409ee6",
   "metadata": {},
   "outputs": [
    {
     "data": {
      "text/plain": [
       "['ds', 'da', 'nlp', 'Joy', 3, 4, True, False, [1, 2, 3], {1, 3, 5}, 'Burhan']"
      ]
     },
     "execution_count": 28,
     "metadata": {},
     "output_type": "execute_result"
    }
   ],
   "source": [
    "x"
   ]
  },
  {
   "cell_type": "code",
   "execution_count": 29,
   "id": "dd908699-d8a0-437f-be1a-586142bb811f",
   "metadata": {},
   "outputs": [],
   "source": [
    "x.reverse()"
   ]
  },
  {
   "cell_type": "code",
   "execution_count": 30,
   "id": "46b4e349-84cd-4d63-8808-57fcbf0db0d7",
   "metadata": {},
   "outputs": [
    {
     "data": {
      "text/plain": [
       "['Burhan', {1, 3, 5}, [1, 2, 3], False, True, 4, 3, 'Joy', 'nlp', 'da', 'ds']"
      ]
     },
     "execution_count": 30,
     "metadata": {},
     "output_type": "execute_result"
    }
   ],
   "source": [
    "x"
   ]
  },
  {
   "cell_type": "code",
   "execution_count": 31,
   "id": "02112d6e-64fe-4f59-af57-30dc5d2d6691",
   "metadata": {},
   "outputs": [],
   "source": [
    "x.append(4)"
   ]
  },
  {
   "cell_type": "code",
   "execution_count": 32,
   "id": "736c46aa-16b3-436b-8416-f23478f50539",
   "metadata": {},
   "outputs": [
    {
     "data": {
      "text/plain": [
       "['Burhan',\n",
       " {1, 3, 5},\n",
       " [1, 2, 3],\n",
       " False,\n",
       " True,\n",
       " 4,\n",
       " 3,\n",
       " 'Joy',\n",
       " 'nlp',\n",
       " 'da',\n",
       " 'ds',\n",
       " 4]"
      ]
     },
     "execution_count": 32,
     "metadata": {},
     "output_type": "execute_result"
    }
   ],
   "source": [
    "x"
   ]
  },
  {
   "cell_type": "code",
   "execution_count": 33,
   "id": "b65e5c02-d794-41b7-b8e7-eea2a5332af0",
   "metadata": {},
   "outputs": [
    {
     "data": {
      "text/plain": [
       "2"
      ]
     },
     "execution_count": 33,
     "metadata": {},
     "output_type": "execute_result"
    }
   ],
   "source": [
    "x.count(4)"
   ]
  },
  {
   "cell_type": "markdown",
   "id": "94e87057-e639-4498-b313-7bfce6d7ddc9",
   "metadata": {},
   "source": [
    "## 2. Tuple in Python"
   ]
  },
  {
   "cell_type": "code",
   "execution_count": 44,
   "id": "c70a1f85-e24b-44af-b4ba-e4c2b4f957ba",
   "metadata": {},
   "outputs": [],
   "source": [
    "t = 10, 20"
   ]
  },
  {
   "cell_type": "code",
   "execution_count": 46,
   "id": "240c69f9-e409-4700-9d36-1e058dc4c1d2",
   "metadata": {},
   "outputs": [
    {
     "data": {
      "text/plain": [
       "tuple"
      ]
     },
     "execution_count": 46,
     "metadata": {},
     "output_type": "execute_result"
    }
   ],
   "source": [
    "type(t)"
   ]
  },
  {
   "cell_type": "code",
   "execution_count": 48,
   "id": "81fc97b5-4ab9-44a4-9634-6f863f07c37c",
   "metadata": {},
   "outputs": [],
   "source": [
    "t = ({1,2,3}, [1, 3, 5], False, True, 'ds', 'da', 'nlp', 1, 2, 3)"
   ]
  },
  {
   "cell_type": "code",
   "execution_count": 60,
   "id": "2f481ae2-6cbd-4237-8efa-be99f57722ae",
   "metadata": {},
   "outputs": [
    {
     "data": {
      "text/plain": [
       "({1, 2, 3}, [1, 3, 5], False, True, 'ds', 'da', 'nlp', 1, 2, 3)"
      ]
     },
     "execution_count": 60,
     "metadata": {},
     "output_type": "execute_result"
    }
   ],
   "source": [
    "t"
   ]
  },
  {
   "cell_type": "code",
   "execution_count": 62,
   "id": "64c44468-6dff-4c10-9126-510b14d878a4",
   "metadata": {},
   "outputs": [
    {
     "data": {
      "text/plain": [
       "tuple"
      ]
     },
     "execution_count": 62,
     "metadata": {},
     "output_type": "execute_result"
    }
   ],
   "source": [
    "type(t)"
   ]
  },
  {
   "cell_type": "code",
   "execution_count": 64,
   "id": "e151959d-8e14-43f9-98d7-5d198c10797e",
   "metadata": {},
   "outputs": [
    {
     "data": {
      "text/plain": [
       "list"
      ]
     },
     "execution_count": 64,
     "metadata": {},
     "output_type": "execute_result"
    }
   ],
   "source": [
    "type(list(t))"
   ]
  },
  {
   "cell_type": "code",
   "execution_count": 66,
   "id": "7b25c4f1-b407-477e-a319-470af1ed5954",
   "metadata": {},
   "outputs": [
    {
     "data": {
      "text/plain": [
       "120"
      ]
     },
     "execution_count": 66,
     "metadata": {},
     "output_type": "execute_result"
    }
   ],
   "source": [
    "sys.getsizeof(t)"
   ]
  },
  {
   "cell_type": "code",
   "execution_count": 68,
   "id": "e4c96745-200b-489b-92bf-d0c8b8eb9163",
   "metadata": {},
   "outputs": [
    {
     "data": {
      "text/plain": [
       "136"
      ]
     },
     "execution_count": 68,
     "metadata": {},
     "output_type": "execute_result"
    }
   ],
   "source": [
    "sys.getsizeof(list(t))"
   ]
  },
  {
   "cell_type": "code",
   "execution_count": 70,
   "id": "33607e0d-ec5a-4c46-9138-2e92b11fa4eb",
   "metadata": {},
   "outputs": [
    {
     "ename": "AttributeError",
     "evalue": "'tuple' object has no attribute 'append'",
     "output_type": "error",
     "traceback": [
      "\u001b[1;31m---------------------------------------------------------------------------\u001b[0m",
      "\u001b[1;31mAttributeError\u001b[0m                            Traceback (most recent call last)",
      "Cell \u001b[1;32mIn[70], line 1\u001b[0m\n\u001b[1;32m----> 1\u001b[0m t\u001b[38;5;241m.\u001b[39mappend(\u001b[38;5;124m'\u001b[39m\u001b[38;5;124mburhan\u001b[39m\u001b[38;5;124m'\u001b[39m)\n",
      "\u001b[1;31mAttributeError\u001b[0m: 'tuple' object has no attribute 'append'"
     ]
    }
   ],
   "source": [
    "t.append('burhan') #immutable"
   ]
  },
  {
   "cell_type": "code",
   "execution_count": 72,
   "id": "8e1a7310-9558-42f5-9854-db946d6d0315",
   "metadata": {},
   "outputs": [
    {
     "ename": "TypeError",
     "evalue": "'tuple' object doesn't support item deletion",
     "output_type": "error",
     "traceback": [
      "\u001b[1;31m---------------------------------------------------------------------------\u001b[0m",
      "\u001b[1;31mTypeError\u001b[0m                                 Traceback (most recent call last)",
      "Cell \u001b[1;32mIn[72], line 1\u001b[0m\n\u001b[1;32m----> 1\u001b[0m \u001b[38;5;28;01mdel\u001b[39;00m t[\u001b[38;5;241m2\u001b[39m]\n",
      "\u001b[1;31mTypeError\u001b[0m: 'tuple' object doesn't support item deletion"
     ]
    }
   ],
   "source": [
    "del t[2]"
   ]
  },
  {
   "cell_type": "code",
   "execution_count": 74,
   "id": "dc2135d8-6403-4c00-b59e-e6098c6b15f1",
   "metadata": {},
   "outputs": [],
   "source": [
    "t2 = (1, 4, 5)"
   ]
  },
  {
   "cell_type": "code",
   "execution_count": 76,
   "id": "adc6d827-3892-47f2-a8cc-d872c1274389",
   "metadata": {},
   "outputs": [],
   "source": [
    "t = t+t2"
   ]
  },
  {
   "cell_type": "code",
   "execution_count": 78,
   "id": "4ac417db-9812-4357-9eaf-a7df0b989b90",
   "metadata": {},
   "outputs": [
    {
     "data": {
      "text/plain": [
       "({1, 2, 3}, [1, 3, 5], False, True, 'ds', 'da', 'nlp', 1, 2, 3, 1, 4, 5)"
      ]
     },
     "execution_count": 78,
     "metadata": {},
     "output_type": "execute_result"
    }
   ],
   "source": [
    "t"
   ]
  },
  {
   "cell_type": "code",
   "execution_count": 80,
   "id": "98e64466-b96b-421f-ae15-ad5ddeb3a711",
   "metadata": {},
   "outputs": [
    {
     "data": {
      "text/plain": [
       "({1, 2, 3}, [1, 3, 5], False, True)"
      ]
     },
     "execution_count": 80,
     "metadata": {},
     "output_type": "execute_result"
    }
   ],
   "source": [
    "t[:4]"
   ]
  },
  {
   "cell_type": "code",
   "execution_count": 82,
   "id": "94ea3a09-cf60-494e-9470-31e7632411b4",
   "metadata": {},
   "outputs": [
    {
     "data": {
      "text/plain": [
       "('da', 'nlp', 1, 2, 3, 1, 4, 5)"
      ]
     },
     "execution_count": 82,
     "metadata": {},
     "output_type": "execute_result"
    }
   ],
   "source": [
    "t[5:]"
   ]
  },
  {
   "cell_type": "code",
   "execution_count": 84,
   "id": "9d1a1760-079c-486d-b065-4935f35948cb",
   "metadata": {},
   "outputs": [
    {
     "data": {
      "text/plain": [
       "({1, 2, 3}, [1, 3, 5], False, True, 'da', 'nlp', 1, 2, 3, 1, 4, 5)"
      ]
     },
     "execution_count": 84,
     "metadata": {},
     "output_type": "execute_result"
    }
   ],
   "source": [
    "t[:4] + t[5:]"
   ]
  },
  {
   "cell_type": "markdown",
   "id": "21008f4f-c7ad-4728-92bb-efed76bd9b80",
   "metadata": {},
   "source": [
    "## Set in python"
   ]
  },
  {
   "cell_type": "code",
   "execution_count": 87,
   "id": "50408e8f-bcbe-487d-b272-47512b96bba8",
   "metadata": {},
   "outputs": [],
   "source": [
    "s1 = {1, 3, 54, 455, 55,56}"
   ]
  },
  {
   "cell_type": "code",
   "execution_count": 89,
   "id": "45b6091b-2a7c-47b4-8342-df1c6f2e610c",
   "metadata": {},
   "outputs": [],
   "source": [
    "s2 = {2, 3, 344,5, 5,45 ,56 ,56,56 }"
   ]
  },
  {
   "cell_type": "code",
   "execution_count": 91,
   "id": "083981ea-9a56-4ec2-89f0-5ecd49e209c4",
   "metadata": {},
   "outputs": [
    {
     "data": {
      "text/plain": [
       "{1, 3, 54, 55, 56, 455}"
      ]
     },
     "execution_count": 91,
     "metadata": {},
     "output_type": "execute_result"
    }
   ],
   "source": [
    "s1"
   ]
  },
  {
   "cell_type": "code",
   "execution_count": 93,
   "id": "2be6bca4-6655-44c8-8678-c4c5a6eedc02",
   "metadata": {},
   "outputs": [
    {
     "data": {
      "text/plain": [
       "{2, 3, 5, 45, 56, 344}"
      ]
     },
     "execution_count": 93,
     "metadata": {},
     "output_type": "execute_result"
    }
   ],
   "source": [
    "s2"
   ]
  },
  {
   "cell_type": "code",
   "execution_count": 95,
   "id": "d3785b6c-960c-4c93-8a81-00a26e4fa8a1",
   "metadata": {},
   "outputs": [
    {
     "data": {
      "text/plain": [
       "{1, 2, 3, 5, 45, 54, 55, 56, 344, 455}"
      ]
     },
     "execution_count": 95,
     "metadata": {},
     "output_type": "execute_result"
    }
   ],
   "source": [
    "s1.union(s2)"
   ]
  },
  {
   "cell_type": "code",
   "execution_count": 97,
   "id": "9bb55610-2130-4b1d-9c90-13c4b95d47f6",
   "metadata": {},
   "outputs": [
    {
     "data": {
      "text/plain": [
       "{3, 56}"
      ]
     },
     "execution_count": 97,
     "metadata": {},
     "output_type": "execute_result"
    }
   ],
   "source": [
    "s1.intersection(s2)"
   ]
  },
  {
   "cell_type": "code",
   "execution_count": 99,
   "id": "8ed5aa25-e8f6-4c14-a455-d369b5d8fac8",
   "metadata": {},
   "outputs": [
    {
     "data": {
      "text/plain": [
       "{1, 2, 3, 5, 45, 54, 55, 56, 344, 455}"
      ]
     },
     "execution_count": 99,
     "metadata": {},
     "output_type": "execute_result"
    }
   ],
   "source": [
    "s1 | s2 # union"
   ]
  },
  {
   "cell_type": "code",
   "execution_count": 101,
   "id": "abef3d82-e818-4d18-9985-b882b5f53829",
   "metadata": {},
   "outputs": [
    {
     "data": {
      "text/plain": [
       "{3, 56}"
      ]
     },
     "execution_count": 101,
     "metadata": {},
     "output_type": "execute_result"
    }
   ],
   "source": [
    "s1 & s2 # Intersection"
   ]
  },
  {
   "cell_type": "markdown",
   "id": "a30dec60-e091-4414-a35f-97c42fc291a7",
   "metadata": {},
   "source": [
    "## Frozen Sets in Python"
   ]
  },
  {
   "cell_type": "code",
   "execution_count": 104,
   "id": "be13f454-d517-4387-9fc7-3e919a064e8d",
   "metadata": {},
   "outputs": [],
   "source": [
    "frozen_meat = frozenset(['Beef', 'Mutton', 'Chicken'])"
   ]
  },
  {
   "cell_type": "code",
   "execution_count": 105,
   "id": "5da03489-b2ef-4224-b4c6-232bf1f4f77e",
   "metadata": {},
   "outputs": [
    {
     "data": {
      "text/plain": [
       "frozenset({'Beef', 'Chicken', 'Mutton'})"
      ]
     },
     "execution_count": 105,
     "metadata": {},
     "output_type": "execute_result"
    }
   ],
   "source": [
    "frozen_meat"
   ]
  },
  {
   "cell_type": "code",
   "execution_count": 106,
   "id": "05a18e72-9f88-417b-8717-0199b9e3c8c0",
   "metadata": {},
   "outputs": [
    {
     "data": {
      "text/plain": [
       "frozenset"
      ]
     },
     "execution_count": 106,
     "metadata": {},
     "output_type": "execute_result"
    }
   ],
   "source": [
    "type(frozen_meat)"
   ]
  },
  {
   "cell_type": "code",
   "execution_count": 110,
   "id": "658d9cab-cbfd-44f6-8556-172a26467769",
   "metadata": {},
   "outputs": [
    {
     "ename": "AttributeError",
     "evalue": "'frozenset' object has no attribute 'add'",
     "output_type": "error",
     "traceback": [
      "\u001b[1;31m---------------------------------------------------------------------------\u001b[0m",
      "\u001b[1;31mAttributeError\u001b[0m                            Traceback (most recent call last)",
      "Cell \u001b[1;32mIn[110], line 1\u001b[0m\n\u001b[1;32m----> 1\u001b[0m frozen_meat\u001b[38;5;241m.\u001b[39madd(\u001b[38;5;124m'\u001b[39m\u001b[38;5;124mpork\u001b[39m\u001b[38;5;124m'\u001b[39m)\n",
      "\u001b[1;31mAttributeError\u001b[0m: 'frozenset' object has no attribute 'add'"
     ]
    }
   ],
   "source": [
    "frozen_meat.add('pork')"
   ]
  },
  {
   "cell_type": "code",
   "execution_count": 117,
   "id": "2575a3db-2bd1-4e6c-9a21-bcd622173b69",
   "metadata": {},
   "outputs": [
    {
     "data": {
      "text/plain": [
       "{1, 3, 54, 55, 56, 455}"
      ]
     },
     "execution_count": 117,
     "metadata": {},
     "output_type": "execute_result"
    }
   ],
   "source": [
    "s1\n"
   ]
  },
  {
   "cell_type": "code",
   "execution_count": 119,
   "id": "04043f34-b9df-4e5f-af6f-aace0f93d2ec",
   "metadata": {},
   "outputs": [],
   "source": [
    "s1.remove(3)"
   ]
  },
  {
   "cell_type": "code",
   "execution_count": 121,
   "id": "6a3d2ff7-fa65-4615-b9f2-d03c26ba6baa",
   "metadata": {},
   "outputs": [
    {
     "data": {
      "text/plain": [
       "{1, 54, 55, 56, 455}"
      ]
     },
     "execution_count": 121,
     "metadata": {},
     "output_type": "execute_result"
    }
   ],
   "source": [
    "s1"
   ]
  },
  {
   "cell_type": "code",
   "execution_count": 123,
   "id": "eca20839-1719-4b00-b08b-742b062f81cf",
   "metadata": {},
   "outputs": [
    {
     "ename": "KeyError",
     "evalue": "3",
     "output_type": "error",
     "traceback": [
      "\u001b[1;31m---------------------------------------------------------------------------\u001b[0m",
      "\u001b[1;31mKeyError\u001b[0m                                  Traceback (most recent call last)",
      "Cell \u001b[1;32mIn[123], line 1\u001b[0m\n\u001b[1;32m----> 1\u001b[0m s1\u001b[38;5;241m.\u001b[39mremove(\u001b[38;5;241m3\u001b[39m)\n",
      "\u001b[1;31mKeyError\u001b[0m: 3"
     ]
    }
   ],
   "source": [
    "s1.remove(3)"
   ]
  },
  {
   "cell_type": "code",
   "execution_count": 125,
   "id": "bd4dad4e-8795-403f-a2f0-5eee6b343e05",
   "metadata": {},
   "outputs": [],
   "source": [
    "s1.discard(1)"
   ]
  },
  {
   "cell_type": "code",
   "execution_count": 128,
   "id": "2a7b88ae-9286-4455-94d5-749afe4e8948",
   "metadata": {
    "jp-MarkdownHeadingCollapsed": true
   },
   "outputs": [
    {
     "data": {
      "text/plain": [
       "{54, 55, 56, 455}"
      ]
     },
     "execution_count": 128,
     "metadata": {},
     "output_type": "execute_result"
    }
   ],
   "source": [
    "s1"
   ]
  },
  {
   "cell_type": "code",
   "execution_count": 130,
   "id": "db342975-f80e-44d9-9a33-4018e00b9ce0",
   "metadata": {},
   "outputs": [],
   "source": [
    "s1.discard(1)"
   ]
  },
  {
   "cell_type": "code",
   "execution_count": 132,
   "id": "294958a3-f47a-4c29-adbb-d90feaf7a970",
   "metadata": {},
   "outputs": [
    {
     "data": {
      "text/plain": [
       "{54, 55, 56, 455}"
      ]
     },
     "execution_count": 132,
     "metadata": {},
     "output_type": "execute_result"
    }
   ],
   "source": [
    "s1"
   ]
  },
  {
   "cell_type": "markdown",
   "id": "b33362aa-a201-4e57-af9d-e0319e03d14d",
   "metadata": {},
   "source": [
    "## 5. Dictionaries in Python"
   ]
  },
  {
   "cell_type": "code",
   "execution_count": 137,
   "id": "a2d360a1-1e9b-4d48-be56-c21016223e8e",
   "metadata": {},
   "outputs": [],
   "source": [
    "person = {\n",
    "    \"name\": \"Burhan\",\n",
    "    \"age\": 25,\n",
    "    \"city\": \"Habiganj\"\n",
    "}"
   ]
  },
  {
   "cell_type": "code",
   "execution_count": 139,
   "id": "0c979162-c3da-4cfb-9bf3-0ac40c23a5da",
   "metadata": {},
   "outputs": [
    {
     "data": {
      "text/plain": [
       "{'name': 'Burhan', 'age': 25, 'city': 'Habiganj'}"
      ]
     },
     "execution_count": 139,
     "metadata": {},
     "output_type": "execute_result"
    }
   ],
   "source": [
    "person"
   ]
  },
  {
   "cell_type": "code",
   "execution_count": 141,
   "id": "0abdcc05-6deb-48ce-b125-38b9c0532ac7",
   "metadata": {},
   "outputs": [
    {
     "data": {
      "text/plain": [
       "{'name': 'Burhan', 'age': 25, 'city': 'Habiganj'}"
      ]
     },
     "execution_count": 141,
     "metadata": {},
     "output_type": "execute_result"
    }
   ],
   "source": [
    "person = dict(name=\"Burhan\", age = 25, city=\"Habiganj\")\n",
    "person"
   ]
  },
  {
   "cell_type": "code",
   "execution_count": 143,
   "id": "860bc7ff-06ea-4043-a1c6-e370c0cfc2f0",
   "metadata": {},
   "outputs": [
    {
     "data": {
      "text/plain": [
       "dict"
      ]
     },
     "execution_count": 143,
     "metadata": {},
     "output_type": "execute_result"
    }
   ],
   "source": [
    "type(person)"
   ]
  },
  {
   "cell_type": "code",
   "execution_count": null,
   "id": "0b4501ec-45eb-4bbd-bca2-51670deecd94",
   "metadata": {},
   "outputs": [],
   "source": []
  },
  {
   "cell_type": "code",
   "execution_count": 145,
   "id": "5026abf9-69e0-480e-9ce8-c3ef05c4e458",
   "metadata": {},
   "outputs": [
    {
     "data": {
      "text/plain": [
       "dict_keys(['name', 'age', 'city'])"
      ]
     },
     "execution_count": 145,
     "metadata": {},
     "output_type": "execute_result"
    }
   ],
   "source": [
    "person.keys()"
   ]
  },
  {
   "cell_type": "code",
   "execution_count": 147,
   "id": "0987db47-e881-48f7-a099-42e5369d21b5",
   "metadata": {},
   "outputs": [
    {
     "data": {
      "text/plain": [
       "dict_values(['Burhan', 25, 'Habiganj'])"
      ]
     },
     "execution_count": 147,
     "metadata": {},
     "output_type": "execute_result"
    }
   ],
   "source": [
    "person.values()"
   ]
  },
  {
   "cell_type": "code",
   "execution_count": 151,
   "id": "1d80b671-baf8-4418-b899-c29745116be1",
   "metadata": {},
   "outputs": [],
   "source": [
    "person = {\n",
    "    \"name\": [\"Burhan\", \"Pitbull\"],\n",
    "    \"age\": [25, 1],\n",
    "    \"city\": [\"Habiganj\", \"Kushtia\"]\n",
    "}"
   ]
  },
  {
   "cell_type": "code",
   "execution_count": 153,
   "id": "3e36e5ae-7b7b-4592-83c3-e644af003ced",
   "metadata": {},
   "outputs": [
    {
     "data": {
      "text/plain": [
       "{'name': ['Burhan', 'Pitbull'],\n",
       " 'age': [25, 1],\n",
       " 'city': ['Habiganj', 'Kushtia']}"
      ]
     },
     "execution_count": 153,
     "metadata": {},
     "output_type": "execute_result"
    }
   ],
   "source": [
    "person"
   ]
  },
  {
   "cell_type": "markdown",
   "id": "c5a7e0c8-79d4-4b20-9511-e7051aff2c23",
   "metadata": {},
   "source": [
    "### from user input to dictionaries"
   ]
  },
  {
   "cell_type": "code",
   "execution_count": 164,
   "id": "84ff5d34-98be-4176-b0c4-546c16344c93",
   "metadata": {},
   "outputs": [
    {
     "name": "stdin",
     "output_type": "stream",
     "text": [
      "Enter how many Key_value pair you want:  3\n",
      "Enter the key for name\n",
      "enter the value for name burhan\n",
      "Enter the key for age\n",
      "enter the value for age 25\n",
      "Enter the key for city\n",
      "enter the value for city Habiganj\n"
     ]
    },
    {
     "name": "stdout",
     "output_type": "stream",
     "text": [
      "{'name': 'burhan', 'age': '25', 'city': 'Habiganj'}\n"
     ]
    }
   ],
   "source": [
    "d = {}\n",
    "n = int(input(\"Enter how many Key_value pair you want: \"))\n",
    "\n",
    "for i in range(n):\n",
    "    key = input(\"Enter the key for\")\n",
    "    value = input(f\"enter the value for {key}\")\n",
    "    d[key] = value\n",
    "\n",
    "print(d)"
   ]
  },
  {
   "cell_type": "code",
   "execution_count": 166,
   "id": "d70ba9f3-d255-4528-82f8-455124239d70",
   "metadata": {},
   "outputs": [
    {
     "data": {
      "text/plain": [
       "dict_keys(['name', 'age', 'city'])"
      ]
     },
     "execution_count": 166,
     "metadata": {},
     "output_type": "execute_result"
    }
   ],
   "source": [
    "d.keys()"
   ]
  },
  {
   "cell_type": "markdown",
   "id": "ea86ed64-6b1d-4825-8534-648ca1cb9104",
   "metadata": {},
   "source": [
    "# List Comprehension"
   ]
  },
  {
   "cell_type": "code",
   "execution_count": 171,
   "id": "c6b1d36d-06bf-4187-964e-7239341e2637",
   "metadata": {},
   "outputs": [
    {
     "name": "stdout",
     "output_type": "stream",
     "text": [
      "1\n",
      "3\n"
     ]
    }
   ],
   "source": [
    "for i in range(1,5):\n",
    "    if i%2==0:\n",
    "        continue  # stop\n",
    "    print(i)"
   ]
  },
  {
   "cell_type": "code",
   "execution_count": 173,
   "id": "5d340b71-ca29-41ae-85c8-9ed2ec1b45f3",
   "metadata": {},
   "outputs": [
    {
     "data": {
      "text/plain": [
       "[1, 3, 5, 7, 9]"
      ]
     },
     "execution_count": 173,
     "metadata": {},
     "output_type": "execute_result"
    }
   ],
   "source": [
    "[i for i in range(10) if i%2!=0]"
   ]
  },
  {
   "cell_type": "code",
   "execution_count": 177,
   "id": "8d8c8e69-95b8-41af-b977-c4d18e22a339",
   "metadata": {},
   "outputs": [
    {
     "data": {
      "text/plain": [
       "[0, 1, 4, 9, 16, 25, 36, 49, 64, 81]"
      ]
     },
     "execution_count": 177,
     "metadata": {},
     "output_type": "execute_result"
    }
   ],
   "source": [
    "squares = [x**2 for x in range(10)]\n",
    "squares"
   ]
  },
  {
   "cell_type": "code",
   "execution_count": 179,
   "id": "616f8aab-d16e-4677-9cee-315bb6b7074e",
   "metadata": {},
   "outputs": [
    {
     "data": {
      "text/plain": [
       "[2, 3, 4, 5, 6, 7, 8, 9, 10, 11]"
      ]
     },
     "execution_count": 179,
     "metadata": {},
     "output_type": "execute_result"
    }
   ],
   "source": [
    "squares = [x+2 for x in range(10)]\n",
    "squares"
   ]
  },
  {
   "cell_type": "markdown",
   "id": "1fe10449-235c-438f-b196-5b4678cfe596",
   "metadata": {},
   "source": [
    "# Tuple Comprehension"
   ]
  },
  {
   "cell_type": "code",
   "execution_count": null,
   "id": "c2dec8f9-3ac7-4c27-bce4-ba366565b771",
   "metadata": {},
   "outputs": [],
   "source": []
  },
  {
   "cell_type": "code",
   "execution_count": 192,
   "id": "657e12fc-24c9-490a-8ac4-6749de4f730e",
   "metadata": {},
   "outputs": [
    {
     "data": {
      "text/plain": [
       "[0, 1, 4, 9, 16, 25, 36, 49, 64, 81]"
      ]
     },
     "execution_count": 192,
     "metadata": {},
     "output_type": "execute_result"
    }
   ],
   "source": [
    "li = [x**2 for x in range(10)]\n",
    "li"
   ]
  },
  {
   "cell_type": "code",
   "execution_count": 194,
   "id": "65fe2d6a-12f9-4149-8c6f-85adb381e042",
   "metadata": {},
   "outputs": [
    {
     "data": {
      "text/plain": [
       "<generator object <genexpr> at 0x000001BCBF62E810>"
      ]
     },
     "execution_count": 194,
     "metadata": {},
     "output_type": "execute_result"
    }
   ],
   "source": [
    "gen_expr = (x**2 for x in range(10))\n",
    "gen_expr"
   ]
  },
  {
   "cell_type": "code",
   "execution_count": 196,
   "id": "40a55b4a-2992-4dab-83b4-78b2fd7d2785",
   "metadata": {},
   "outputs": [
    {
     "data": {
      "text/plain": [
       "(0, 1, 4, 9, 16, 25, 36, 49, 64, 81)"
      ]
     },
     "execution_count": 196,
     "metadata": {},
     "output_type": "execute_result"
    }
   ],
   "source": [
    "tuple(gen_expr)"
   ]
  },
  {
   "cell_type": "code",
   "execution_count": 202,
   "id": "436c918f-f6f7-4f8d-a60e-e13546feca4b",
   "metadata": {},
   "outputs": [
    {
     "name": "stdout",
     "output_type": "stream",
     "text": [
      "184\n",
      "40\n"
     ]
    }
   ],
   "source": [
    "print(sys.getsizeof(li))\n",
    "print(sys.getsizeof(tuple(gen_expr)))"
   ]
  },
  {
   "cell_type": "code",
   "execution_count": null,
   "id": "6fc7725e-b6f4-477c-a559-b46940c9dac5",
   "metadata": {},
   "outputs": [],
   "source": []
  },
  {
   "cell_type": "code",
   "execution_count": null,
   "id": "466cd98d-7afd-4d99-8d8b-174a8f726016",
   "metadata": {},
   "outputs": [],
   "source": []
  },
  {
   "cell_type": "code",
   "execution_count": null,
   "id": "399426f3-628b-4c40-bc29-37db258bc530",
   "metadata": {},
   "outputs": [],
   "source": []
  },
  {
   "cell_type": "code",
   "execution_count": null,
   "id": "aaf73bb1-2a04-49c2-82c6-4629ec34ff02",
   "metadata": {},
   "outputs": [],
   "source": []
  },
  {
   "cell_type": "code",
   "execution_count": null,
   "id": "a66468d4-26d2-41b5-9add-0d8dd267c3e2",
   "metadata": {},
   "outputs": [],
   "source": []
  },
  {
   "cell_type": "code",
   "execution_count": null,
   "id": "a2e82c5a-cf48-4070-af3c-1e8ba01dce25",
   "metadata": {},
   "outputs": [],
   "source": []
  },
  {
   "cell_type": "code",
   "execution_count": null,
   "id": "48c14767-a974-4b16-98a0-048c721295eb",
   "metadata": {},
   "outputs": [],
   "source": []
  },
  {
   "cell_type": "code",
   "execution_count": null,
   "id": "5e360a8e-caf4-4af5-81a4-c6e378898e72",
   "metadata": {},
   "outputs": [],
   "source": []
  }
 ],
 "metadata": {
  "kernelspec": {
   "display_name": "Python 3 (ipykernel)",
   "language": "python",
   "name": "python3"
  },
  "language_info": {
   "codemirror_mode": {
    "name": "ipython",
    "version": 3
   },
   "file_extension": ".py",
   "mimetype": "text/x-python",
   "name": "python",
   "nbconvert_exporter": "python",
   "pygments_lexer": "ipython3",
   "version": "3.12.4"
  }
 },
 "nbformat": 4,
 "nbformat_minor": 5
}
