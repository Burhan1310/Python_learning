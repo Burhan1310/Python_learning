{
 "cells": [
  {
   "cell_type": "markdown",
   "id": "0cb7b06f-2ada-4c11-9f24-407a92394d21",
   "metadata": {},
   "source": [
    "# Basic Problem"
   ]
  },
  {
   "cell_type": "markdown",
   "id": "bb30930f-783c-4066-b819-a71f5b24696b",
   "metadata": {},
   "source": [
    "## 01. `Variable Swap:` Write a Python profram to swap the values of two variables without using a temporary variable."
   ]
  },
  {
   "cell_type": "code",
   "execution_count": 23,
   "id": "5271f215-6024-44b8-9546-7efbb4c9102b",
   "metadata": {},
   "outputs": [
    {
     "name": "stdin",
     "output_type": "stream",
     "text": [
      "Enter the first number:  10\n",
      "Enter the second number:  15\n"
     ]
    }
   ],
   "source": [
    "a = int(input(\"Enter the first number: \"))\n",
    "b = int(input(\"Enter the second number: \"))"
   ]
  },
  {
   "cell_type": "code",
   "execution_count": 25,
   "id": "adeb2a64-8071-4dc4-9e6a-ce85bd38ae42",
   "metadata": {},
   "outputs": [],
   "source": [
    "a = a + b\n",
    "b = a - b\n",
    "a = a - b"
   ]
  },
  {
   "cell_type": "code",
   "execution_count": 33,
   "id": "6a69b322-ce57-45a2-a915-a4eb55ac74f1",
   "metadata": {},
   "outputs": [
    {
     "name": "stdout",
     "output_type": "stream",
     "text": [
      "After Swapping:\n",
      " a = 15 \n",
      " b = 10\n"
     ]
    }
   ],
   "source": [
    "print(f\"After Swapping:\\n a = {a} \\n b = {b}\")"
   ]
  },
  {
   "cell_type": "code",
   "execution_count": 43,
   "id": "14642242-83f1-42bd-90a8-14075c7a82ae",
   "metadata": {},
   "outputs": [],
   "source": [
    "# alternative approach\n",
    "a =10\n",
    "b = 15\n",
    "a, b = b, a     ## Python's Tuple Unpacking. better approach"
   ]
  },
  {
   "cell_type": "code",
   "execution_count": 45,
   "id": "e56dd080-19d9-4462-a563-1dff362b817c",
   "metadata": {},
   "outputs": [
    {
     "data": {
      "text/plain": [
       "15"
      ]
     },
     "execution_count": 45,
     "metadata": {},
     "output_type": "execute_result"
    }
   ],
   "source": [
    "a"
   ]
  },
  {
   "cell_type": "code",
   "execution_count": 47,
   "id": "8a2fc511-1f23-4f29-a329-fd88222379e7",
   "metadata": {},
   "outputs": [
    {
     "data": {
      "text/plain": [
       "10"
      ]
     },
     "execution_count": 47,
     "metadata": {},
     "output_type": "execute_result"
    }
   ],
   "source": [
    "b"
   ]
  },
  {
   "cell_type": "markdown",
   "id": "5f208c6a-f828-434b-b01e-660b73abd526",
   "metadata": {},
   "source": [
    "## 2. `Even or Odd:` Write a Python program that takes an integer as input and prints whether it is even or odd."
   ]
  },
  {
   "cell_type": "code",
   "execution_count": 51,
   "id": "4e07e62e-f961-419b-aa0d-52c93282b399",
   "metadata": {},
   "outputs": [
    {
     "name": "stdin",
     "output_type": "stream",
     "text": [
      "Enter an integer:  5\n"
     ]
    }
   ],
   "source": [
    "n = int(input(\"Enter an integer: \"))"
   ]
  },
  {
   "cell_type": "code",
   "execution_count": 73,
   "id": "c3605060-f29c-49ba-b1e6-49b41406e708",
   "metadata": {},
   "outputs": [],
   "source": [
    "def odd_even(n):\n",
    "    if n % 2 == 0:\n",
    "        print(\"The number you provided is EVEN\")\n",
    "    else:\n",
    "        print(\"The number you provided is ODD\")"
   ]
  },
  {
   "cell_type": "code",
   "execution_count": 75,
   "id": "c994366f-274f-4126-91b1-cf9b25590659",
   "metadata": {},
   "outputs": [
    {
     "name": "stdout",
     "output_type": "stream",
     "text": [
      "The number you provided is ODD\n"
     ]
    }
   ],
   "source": [
    "odd_even(n)"
   ]
  },
  {
   "cell_type": "markdown",
   "id": "af9b0878-d183-4377-9e7f-490880726573",
   "metadata": {},
   "source": [
    "## 3. String Reverse: Write a Python function to revrese a given string and return the reversed string."
   ]
  },
  {
   "cell_type": "code",
   "execution_count": 79,
   "id": "d02cd119-9b67-4738-b9d4-a89b01141a51",
   "metadata": {},
   "outputs": [
    {
     "name": "stdin",
     "output_type": "stream",
     "text": [
      "Enter any string:  Burhan Joy\n"
     ]
    }
   ],
   "source": [
    "txt = input(\"Enter any string: \")"
   ]
  },
  {
   "cell_type": "code",
   "execution_count": 85,
   "id": "ab0bdedf-1b17-40e9-ab31-ca25a502ae55",
   "metadata": {},
   "outputs": [],
   "source": [
    "def reverse_string(txt):\n",
    "    return txt[::-1]"
   ]
  },
  {
   "cell_type": "code",
   "execution_count": 89,
   "id": "b6f8240a-233a-462b-8c43-b77f2893e9ff",
   "metadata": {},
   "outputs": [
    {
     "data": {
      "text/plain": [
       "'yoJ nahruB'"
      ]
     },
     "execution_count": 89,
     "metadata": {},
     "output_type": "execute_result"
    }
   ],
   "source": [
    "reversed_txt = reverse_string(txt)\n",
    "reversed_txt"
   ]
  },
  {
   "cell_type": "markdown",
   "id": "a9a03cf2-b557-45fe-8b03-ce75301d74c6",
   "metadata": {},
   "source": [
    "## 4. Type Conversion: Given a list of integers, write a Python program to convert each element of the list to a string."
   ]
  },
  {
   "cell_type": "code",
   "execution_count": 92,
   "id": "9a230235-f0cd-4663-a558-0fcd94c682a2",
   "metadata": {},
   "outputs": [
    {
     "name": "stdin",
     "output_type": "stream",
     "text": [
      "Enter integers seperated by sapces:  2 9 3 5 6 7 8\n"
     ]
    }
   ],
   "source": [
    "user_input = input(\"Enter integers seperated by sapces: \")"
   ]
  },
  {
   "cell_type": "code",
   "execution_count": 94,
   "id": "bf908657-4a27-4dcf-a5e7-e6627e99a59d",
   "metadata": {},
   "outputs": [],
   "source": [
    "int_list = [int(num) for num in user_input.split()]"
   ]
  },
  {
   "cell_type": "code",
   "execution_count": 96,
   "id": "45324579-6635-4436-8ac5-dc9c295576f4",
   "metadata": {},
   "outputs": [
    {
     "data": {
      "text/plain": [
       "[2, 9, 3, 5, 6, 7, 8]"
      ]
     },
     "execution_count": 96,
     "metadata": {},
     "output_type": "execute_result"
    }
   ],
   "source": [
    "int_list"
   ]
  },
  {
   "cell_type": "code",
   "execution_count": 100,
   "id": "81d1a6af-d30e-43fd-8a97-06b62f022174",
   "metadata": {},
   "outputs": [],
   "source": [
    "str_list = [str(num) for num in int_list]"
   ]
  },
  {
   "cell_type": "code",
   "execution_count": 102,
   "id": "0c9f0064-3623-44fe-9af8-11aeafc43224",
   "metadata": {},
   "outputs": [
    {
     "name": "stdout",
     "output_type": "stream",
     "text": [
      "Original List (integers): [2, 9, 3, 5, 6, 7, 8]\n",
      "Converted List (Strings): ['2', '9', '3', '5', '6', '7', '8']\n"
     ]
    }
   ],
   "source": [
    "print(f\"Original List (integers): {int_list}\")\n",
    "print(f\"Converted List (Strings): {str_list}\")"
   ]
  },
  {
   "cell_type": "code",
   "execution_count": 104,
   "id": "50e60e70-b387-4388-9792-c5b7afa81d7e",
   "metadata": {},
   "outputs": [],
   "source": [
    "l = [1,2,3,4,5]"
   ]
  },
  {
   "cell_type": "code",
   "execution_count": 106,
   "id": "f4cc2d05-8f91-42f2-8f5d-ae7cca844a39",
   "metadata": {},
   "outputs": [
    {
     "data": {
      "text/plain": [
       "list"
      ]
     },
     "execution_count": 106,
     "metadata": {},
     "output_type": "execute_result"
    }
   ],
   "source": [
    "type(l)"
   ]
  },
  {
   "cell_type": "code",
   "execution_count": 108,
   "id": "dcb35bce-b141-481e-a817-07b0f585e6eb",
   "metadata": {},
   "outputs": [],
   "source": [
    "l = str(l)"
   ]
  },
  {
   "cell_type": "code",
   "execution_count": 110,
   "id": "3ca878e7-f017-4897-aea4-52c345d6873f",
   "metadata": {},
   "outputs": [
    {
     "data": {
      "text/plain": [
       "'[1, 2, 3, 4, 5]'"
      ]
     },
     "execution_count": 110,
     "metadata": {},
     "output_type": "execute_result"
    }
   ],
   "source": [
    "l"
   ]
  },
  {
   "cell_type": "markdown",
   "id": "ed501dec-8602-40b2-af32-f296a1255344",
   "metadata": {},
   "source": [
    "## 5. Temperature Converter: Write a Python program that converts a temperature in Celsius to Fahrenheit. Take the Celsius temperature as input from the user."
   ]
  },
  {
   "cell_type": "code",
   "execution_count": null,
   "id": "716bd87a-5914-4714-8f96-e2a88d421e7a",
   "metadata": {},
   "outputs": [],
   "source": []
  }
 ],
 "metadata": {
  "kernelspec": {
   "display_name": "Python 3 (ipykernel)",
   "language": "python",
   "name": "python3"
  },
  "language_info": {
   "codemirror_mode": {
    "name": "ipython",
    "version": 3
   },
   "file_extension": ".py",
   "mimetype": "text/x-python",
   "name": "python",
   "nbconvert_exporter": "python",
   "pygments_lexer": "ipython3",
   "version": "3.12.4"
  }
 },
 "nbformat": 4,
 "nbformat_minor": 5
}
