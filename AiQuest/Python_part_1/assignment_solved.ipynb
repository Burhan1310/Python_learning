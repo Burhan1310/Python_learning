{
 "cells": [
  {
   "cell_type": "markdown",
   "id": "6a745506-ae76-4ab8-b1f6-b1a32e74e305",
   "metadata": {},
   "source": [
    "# Variables"
   ]
  },
  {
   "cell_type": "markdown",
   "id": "d3965b27-8c58-457f-9196-fba56ddc024a",
   "metadata": {
    "jp-MarkdownHeadingCollapsed": true
   },
   "source": [
    "## 01. Write a program that `swaps` the values of two variables."
   ]
  },
  {
   "cell_type": "code",
   "execution_count": 8,
   "id": "b681db27-711c-4f2e-86da-5115f0096bfc",
   "metadata": {},
   "outputs": [],
   "source": [
    "a = 10\n",
    "b = 20"
   ]
  },
  {
   "cell_type": "code",
   "execution_count": 10,
   "id": "3b95fbdc-e017-42a8-9f08-69c11f22e19c",
   "metadata": {},
   "outputs": [
    {
     "name": "stdout",
     "output_type": "stream",
     "text": [
      "Before Swapping: a = 10, b = 20\n"
     ]
    }
   ],
   "source": [
    "print(f\"Before Swapping: a = {a}, b = {b}\")"
   ]
  },
  {
   "cell_type": "code",
   "execution_count": 12,
   "id": "bbf7e054-4f7b-482e-843a-6f0cb55721f9",
   "metadata": {},
   "outputs": [],
   "source": [
    "a,b = b, a"
   ]
  },
  {
   "cell_type": "code",
   "execution_count": 14,
   "id": "ee76a08b-b385-49d5-9b79-4fad26e06a7f",
   "metadata": {},
   "outputs": [
    {
     "name": "stdout",
     "output_type": "stream",
     "text": [
      "After Swapping: a = 20, b = 10\n"
     ]
    }
   ],
   "source": [
    "print(f\"After Swapping: a = {a}, b = {b}\")"
   ]
  },
  {
   "cell_type": "markdown",
   "id": "23426ef1-e5e0-440e-8f2f-de0529adc32a",
   "metadata": {},
   "source": [
    "## 02. Write a program that calculates the area of a rectangule given its length and width."
   ]
  },
  {
   "cell_type": "code",
   "execution_count": 17,
   "id": "0f07c62a-f170-48f9-8f28-cbe2e31e8d76",
   "metadata": {},
   "outputs": [],
   "source": [
    "length = 60\n",
    "width = 25\n",
    "area = length * width"
   ]
  },
  {
   "cell_type": "code",
   "execution_count": 19,
   "id": "0d79fa97-894b-45c9-b043-1cdeb91580b2",
   "metadata": {},
   "outputs": [
    {
     "data": {
      "text/plain": [
       "1500"
      ]
     },
     "execution_count": 19,
     "metadata": {},
     "output_type": "execute_result"
    }
   ],
   "source": [
    "area"
   ]
  },
  {
   "cell_type": "code",
   "execution_count": 21,
   "id": "69d1e8de-57b4-49b5-a4df-25122ba3379c",
   "metadata": {},
   "outputs": [
    {
     "name": "stdout",
     "output_type": "stream",
     "text": [
      "1500\n"
     ]
    }
   ],
   "source": [
    "print(area)"
   ]
  },
  {
   "cell_type": "markdown",
   "id": "0436f369-cb56-482d-bf13-0d0ed53c0e08",
   "metadata": {},
   "source": [
    "## 03. Write a program that converts temperature from Fahrenheit to Celcius."
   ]
  },
  {
   "cell_type": "code",
   "execution_count": 24,
   "id": "f6368a25-4b42-4de6-a5c4-99039c91327f",
   "metadata": {},
   "outputs": [],
   "source": [
    "temp_fahrnht = 102\n",
    "temp_cels = 5/9 * (temp_fahrnht - 32)"
   ]
  },
  {
   "cell_type": "code",
   "execution_count": 26,
   "id": "1df91975-93fd-4f55-a456-1d1c69dc99ab",
   "metadata": {},
   "outputs": [
    {
     "data": {
      "text/plain": [
       "38.88888888888889"
      ]
     },
     "execution_count": 26,
     "metadata": {},
     "output_type": "execute_result"
    }
   ],
   "source": [
    "temp_cels"
   ]
  },
  {
   "cell_type": "code",
   "execution_count": 32,
   "id": "858ff93d-0e6e-423e-ba4f-2a07976d4fdc",
   "metadata": {},
   "outputs": [],
   "source": [
    "def fahrenheit_to_celcius(fahrenheit):\n",
    "    celcius = (5/9) * (fahrenheit - 32)\n",
    "    return celcius"
   ]
  },
  {
   "cell_type": "code",
   "execution_count": 34,
   "id": "89b43bc7-5861-4bf8-8a8d-40ba66043d6f",
   "metadata": {},
   "outputs": [
    {
     "name": "stdin",
     "output_type": "stream",
     "text": [
      "Enter temperature in Fahrenheit:  104.5\n"
     ]
    }
   ],
   "source": [
    "fahrenheit_temp = float(input(\"Enter temperature in Fahrenheit: \"))\n",
    "celcius_temp = fahrenheit_to_celcius(fahrenheit_temp)"
   ]
  },
  {
   "cell_type": "code",
   "execution_count": 48,
   "id": "c2262ce6-fad0-4df3-a72f-a865053aff4f",
   "metadata": {},
   "outputs": [
    {
     "data": {
      "text/plain": [
       "40.27777777777778"
      ]
     },
     "execution_count": 48,
     "metadata": {},
     "output_type": "execute_result"
    }
   ],
   "source": [
    "fahrenheit_to_celcius(fahrenheit_temp)"
   ]
  },
  {
   "cell_type": "code",
   "execution_count": 52,
   "id": "37ed87d7-2a00-43c4-9169-142b6294bbc1",
   "metadata": {},
   "outputs": [
    {
     "name": "stdout",
     "output_type": "stream",
     "text": [
      "104.5 degree Fahrenheit is equal to  40.28 degree celcius\n"
     ]
    }
   ],
   "source": [
    "print(f\"{fahrenheit_temp} degree Fahrenheit is equal to {celcius_temp: .2f} degree celcius\")"
   ]
  },
  {
   "cell_type": "code",
   "execution_count": null,
   "id": "2a85eb54-5485-4091-8a57-656cb071b424",
   "metadata": {},
   "outputs": [],
   "source": []
  },
  {
   "cell_type": "markdown",
   "id": "3b7cd459-3c36-44d7-bb83-bd001d43f453",
   "metadata": {},
   "source": [
    "## 04. Write a program that calculates the volume of a sphere given its radius."
   ]
  },
  {
   "cell_type": "code",
   "execution_count": 59,
   "id": "b19f6936-c207-41c1-bd66-635e4e89762d",
   "metadata": {},
   "outputs": [],
   "source": [
    "def volume_of_sphere(radius):\n",
    "    volume = (4/3) * 3.1416 * radius*radius*radius\n",
    "    return volume"
   ]
  },
  {
   "cell_type": "code",
   "execution_count": 61,
   "id": "485ed949-68bc-4493-9256-d0aa9973656a",
   "metadata": {},
   "outputs": [],
   "source": [
    "radius_of_sphere = 6\n",
    "sphere_volume = volume_of_sphere(radius_of_sphere)"
   ]
  },
  {
   "cell_type": "code",
   "execution_count": 63,
   "id": "114e23d8-ad14-4c4a-bacc-f6cc5d09917e",
   "metadata": {},
   "outputs": [
    {
     "data": {
      "text/plain": [
       "904.7807999999998"
      ]
     },
     "execution_count": 63,
     "metadata": {},
     "output_type": "execute_result"
    }
   ],
   "source": [
    "sphere_volume"
   ]
  },
  {
   "cell_type": "code",
   "execution_count": 65,
   "id": "fbd65438-9e64-4ea9-90f8-f0f8d2344a64",
   "metadata": {},
   "outputs": [
    {
     "name": "stdout",
     "output_type": "stream",
     "text": [
      "The Volume of sphere: 904.7807999999998\n"
     ]
    }
   ],
   "source": [
    "print(f\"The Volume of sphere: {sphere_volume}\")"
   ]
  },
  {
   "cell_type": "code",
   "execution_count": null,
   "id": "f1c91eba-3a5f-420d-b2ba-a075f7f10adc",
   "metadata": {},
   "outputs": [],
   "source": []
  },
  {
   "cell_type": "markdown",
   "id": "150b843a-1898-4e4b-83ab-b5fa61a256c7",
   "metadata": {},
   "source": [
    "## 05. Write a program that finds the average of three numbers."
   ]
  },
  {
   "cell_type": "code",
   "execution_count": 69,
   "id": "283c274f-6618-44c4-a8cf-20b0630d74e3",
   "metadata": {},
   "outputs": [],
   "source": [
    "def average(numbers):\n",
    "    return sum(numbers) / len(numbers)"
   ]
  },
  {
   "cell_type": "code",
   "execution_count": 85,
   "id": "637042a0-c967-4b85-9521-a4466da3f8bc",
   "metadata": {},
   "outputs": [
    {
     "name": "stdin",
     "output_type": "stream",
     "text": [
      "Enter the numbers separated by spaces:  45 56 93 34 55\n"
     ]
    }
   ],
   "source": [
    "numbers = list(map(float, input(\"Enter the numbers separated by spaces: \").split()))"
   ]
  },
  {
   "cell_type": "code",
   "execution_count": 87,
   "id": "2e365a7a-ace1-4b8f-beb9-487a7078221d",
   "metadata": {},
   "outputs": [
    {
     "name": "stdout",
     "output_type": "stream",
     "text": [
      "The average of [45.0, 56.0, 93.0, 34.0, 55.0] is 56.60\n"
     ]
    }
   ],
   "source": [
    "if numbers:\n",
    "    avg = average(numbers)\n",
    "    print(f\"The average of {numbers} is {avg:.2f}\")"
   ]
  },
  {
   "cell_type": "markdown",
   "id": "2467644a-e3fb-4726-858e-d8814ed68d0a",
   "metadata": {},
   "source": [
    "# If-elif-else"
   ]
  },
  {
   "cell_type": "markdown",
   "id": "97730535-538e-4ea8-9a6b-03d18b06837a",
   "metadata": {},
   "source": [
    "## 06. Write a program that determines if a number is even or odd."
   ]
  },
  {
   "cell_type": "code",
   "execution_count": 33,
   "id": "06b67cff-97e5-4c1b-bad1-e4d494aaa442",
   "metadata": {},
   "outputs": [
    {
     "name": "stdin",
     "output_type": "stream",
     "text": [
      "Enter any Integer:  6\n"
     ]
    }
   ],
   "source": [
    "x = int(input(f\"Enter any Integer: \"))"
   ]
  },
  {
   "cell_type": "code",
   "execution_count": 35,
   "id": "efa3269e-955d-4281-8c82-ed69179f8cf0",
   "metadata": {},
   "outputs": [],
   "source": [
    "def odd_even(x):\n",
    "    if x%2 == 0:\n",
    "        return 'Even'\n",
    "    else:\n",
    "        return 'Odd'"
   ]
  },
  {
   "cell_type": "code",
   "execution_count": 37,
   "id": "7e706199-d396-4ac7-83fe-d9573febf950",
   "metadata": {},
   "outputs": [
    {
     "data": {
      "text/plain": [
       "'Even'"
      ]
     },
     "execution_count": 37,
     "metadata": {},
     "output_type": "execute_result"
    }
   ],
   "source": [
    "odd_even(x)"
   ]
  },
  {
   "cell_type": "code",
   "execution_count": 39,
   "id": "2ed7f3fb-ce77-453f-87b3-3d6fe01aa7a0",
   "metadata": {},
   "outputs": [
    {
     "data": {
      "text/plain": [
       "int"
      ]
     },
     "execution_count": 39,
     "metadata": {},
     "output_type": "execute_result"
    }
   ],
   "source": [
    "type(x)"
   ]
  },
  {
   "cell_type": "code",
   "execution_count": 41,
   "id": "e01be6db-6143-477b-9b8a-e1b0d24f1d0b",
   "metadata": {},
   "outputs": [
    {
     "data": {
      "text/plain": [
       "'Odd'"
      ]
     },
     "execution_count": 41,
     "metadata": {},
     "output_type": "execute_result"
    }
   ],
   "source": [
    "odd_even(7)"
   ]
  },
  {
   "cell_type": "code",
   "execution_count": null,
   "id": "64d84865-c86e-464d-88e2-32fdb125b71d",
   "metadata": {},
   "outputs": [],
   "source": []
  }
 ],
 "metadata": {
  "kernelspec": {
   "display_name": "Python 3 (ipykernel)",
   "language": "python",
   "name": "python3"
  },
  "language_info": {
   "codemirror_mode": {
    "name": "ipython",
    "version": 3
   },
   "file_extension": ".py",
   "mimetype": "text/x-python",
   "name": "python",
   "nbconvert_exporter": "python",
   "pygments_lexer": "ipython3",
   "version": "3.12.4"
  }
 },
 "nbformat": 4,
 "nbformat_minor": 5
}
