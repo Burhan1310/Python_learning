{
 "cells": [
  {
   "cell_type": "code",
   "execution_count": 1,
   "id": "f68efda5-cda6-4a63-9b62-50ee859a1281",
   "metadata": {},
   "outputs": [
    {
     "name": "stdout",
     "output_type": "stream",
     "text": [
      "10\n"
     ]
    }
   ],
   "source": [
    "print(5 + 5)"
   ]
  },
  {
   "cell_type": "code",
   "execution_count": 3,
   "id": "ea26d5b7-aa1c-4c4f-8b31-863953fe25c0",
   "metadata": {},
   "outputs": [
    {
     "data": {
      "text/plain": [
       "10"
      ]
     },
     "execution_count": 3,
     "metadata": {},
     "output_type": "execute_result"
    }
   ],
   "source": [
    "5 + 5"
   ]
  },
  {
   "cell_type": "code",
   "execution_count": 1,
   "id": "7f9c4021-f39d-4a44-bd0d-435ac05c5a41",
   "metadata": {},
   "outputs": [
    {
     "name": "stdin",
     "output_type": "stream",
     "text": [
      " 5\n"
     ]
    }
   ],
   "source": [
    " x = input()"
   ]
  },
  {
   "cell_type": "code",
   "execution_count": 3,
   "id": "7b7f0bff-f5fb-458c-b315-76e524f958b7",
   "metadata": {},
   "outputs": [
    {
     "name": "stdin",
     "output_type": "stream",
     "text": [
      " 5\n"
     ]
    }
   ],
   "source": [
    "y = input()"
   ]
  },
  {
   "cell_type": "code",
   "execution_count": 5,
   "id": "8849450d-1977-4aa9-add2-03b6c2dd23db",
   "metadata": {},
   "outputs": [
    {
     "data": {
      "text/plain": [
       "'55'"
      ]
     },
     "execution_count": 5,
     "metadata": {},
     "output_type": "execute_result"
    }
   ],
   "source": [
    "x + y"
   ]
  },
  {
   "cell_type": "code",
   "execution_count": 7,
   "id": "441ed801-f60e-4cae-9227-242294fe209f",
   "metadata": {},
   "outputs": [],
   "source": [
    "def myfunction():\n",
    "    global a, b\n",
    "    a = 10\n",
    "    b = 20"
   ]
  },
  {
   "cell_type": "code",
   "execution_count": 11,
   "id": "ee780981-322c-4507-a6d0-be11086004e3",
   "metadata": {},
   "outputs": [],
   "source": [
    "myfunction()"
   ]
  },
  {
   "cell_type": "code",
   "execution_count": 13,
   "id": "adb7e543-78a9-45a1-9439-8f416d9beb1a",
   "metadata": {},
   "outputs": [
    {
     "data": {
      "text/plain": [
       "10"
      ]
     },
     "execution_count": 13,
     "metadata": {},
     "output_type": "execute_result"
    }
   ],
   "source": [
    "a"
   ]
  },
  {
   "cell_type": "code",
   "execution_count": 15,
   "id": "6e245f10-869b-4e2f-8a9e-41cf482b84ae",
   "metadata": {},
   "outputs": [
    {
     "data": {
      "text/plain": [
       "28"
      ]
     },
     "execution_count": 15,
     "metadata": {},
     "output_type": "execute_result"
    }
   ],
   "source": [
    "import sys\n",
    "sys.getsizeof(a)"
   ]
  },
  {
   "cell_type": "code",
   "execution_count": 21,
   "id": "88d3e0ec-fd50-4ef4-a97f-ff6d01bc9472",
   "metadata": {},
   "outputs": [
    {
     "data": {
      "text/plain": [
       "'Data science'"
      ]
     },
     "execution_count": 21,
     "metadata": {},
     "output_type": "execute_result"
    }
   ],
   "source": [
    "txt = \"Data Science\"\n",
    "txt.capitalize()"
   ]
  },
  {
   "cell_type": "code",
   "execution_count": 25,
   "id": "0bdcb4e3-701b-49d2-bb73-855842c2fbe6",
   "metadata": {},
   "outputs": [
    {
     "name": "stdout",
     "output_type": "stream",
     "text": [
      "My age is 30 years \n"
     ]
    }
   ],
   "source": [
    "age = 30\n",
    "print('My age is {} years '.format(age))"
   ]
  },
  {
   "cell_type": "code",
   "execution_count": 27,
   "id": "0a93edfd-962e-4ed4-88e9-f5c28c10d0d1",
   "metadata": {},
   "outputs": [
    {
     "name": "stdout",
     "output_type": "stream",
     "text": [
      "My age is  30 years\n"
     ]
    }
   ],
   "source": [
    "print('My age is ', age, 'years')"
   ]
  },
  {
   "cell_type": "code",
   "execution_count": 35,
   "id": "c84e7b9d-07e5-4f44-a68a-d64d1fe02713",
   "metadata": {},
   "outputs": [
    {
     "name": "stdout",
     "output_type": "stream",
     "text": [
      "My name is বুরহান and I am 25 years old\n"
     ]
    }
   ],
   "source": [
    "name = 'বুরহান'\n",
    "age = 25\n",
    "print('My name is %s and I am %d years old' %(name, age))"
   ]
  },
  {
   "cell_type": "code",
   "execution_count": null,
   "id": "fae3c3ef-1a8d-43f0-96a0-c1bf20073fe8",
   "metadata": {},
   "outputs": [],
   "source": []
  },
  {
   "cell_type": "code",
   "execution_count": 43,
   "id": "0340bd3b-bff5-45d2-8ba8-b3c5f048a152",
   "metadata": {},
   "outputs": [
    {
     "name": "stdout",
     "output_type": "stream",
     "text": [
      "0 Hello Mister Burhan\n",
      "1 Hello Mister Burhan\n",
      "2 Hello Mister Burhan\n",
      "3 Hello Mister Burhan\n",
      "4 Hello Mister Burhan\n",
      "5 Hello Mister Burhan\n",
      "6 Hello Mister Burhan\n",
      "7 Hello Mister Burhan\n",
      "8 Hello Mister Burhan\n",
      "9 Hello Mister Burhan\n"
     ]
    }
   ],
   "source": [
    " for number in range(10):\n",
    "     print(number ,'Hello Mister Burhan')"
   ]
  },
  {
   "cell_type": "code",
   "execution_count": null,
   "id": "838e1c68-7720-4c43-a1b7-c4ff24852e64",
   "metadata": {},
   "outputs": [],
   "source": []
  },
  {
   "cell_type": "code",
   "execution_count": null,
   "id": "7344fa6d-de60-470f-b386-99667550bae5",
   "metadata": {},
   "outputs": [],
   "source": []
  },
  {
   "cell_type": "code",
   "execution_count": null,
   "id": "950f9c51-6805-40d5-89c9-be6d98d49ceb",
   "metadata": {},
   "outputs": [],
   "source": []
  },
  {
   "cell_type": "code",
   "execution_count": null,
   "id": "91b02017-fa52-4220-baab-4823dce9504e",
   "metadata": {},
   "outputs": [],
   "source": []
  },
  {
   "cell_type": "code",
   "execution_count": null,
   "id": "672d2a2e-7eb5-455b-b361-8a00503da767",
   "metadata": {},
   "outputs": [],
   "source": []
  },
  {
   "cell_type": "code",
   "execution_count": null,
   "id": "b34348ff-c95a-43c9-a1fa-6750dc8ad581",
   "metadata": {},
   "outputs": [],
   "source": []
  },
  {
   "cell_type": "code",
   "execution_count": null,
   "id": "46e27cd4-fa62-423f-a4f2-dbdf5e4b2817",
   "metadata": {},
   "outputs": [],
   "source": []
  },
  {
   "cell_type": "code",
   "execution_count": null,
   "id": "cc117248-3888-403d-9dfc-ad929f23a3d6",
   "metadata": {},
   "outputs": [],
   "source": []
  }
 ],
 "metadata": {
  "kernelspec": {
   "display_name": "Python 3 (ipykernel)",
   "language": "python",
   "name": "python3"
  },
  "language_info": {
   "codemirror_mode": {
    "name": "ipython",
    "version": 3
   },
   "file_extension": ".py",
   "mimetype": "text/x-python",
   "name": "python",
   "nbconvert_exporter": "python",
   "pygments_lexer": "ipython3",
   "version": "3.12.4"
  }
 },
 "nbformat": 4,
 "nbformat_minor": 5
}
