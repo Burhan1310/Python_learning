{
  "nbformat": 4,
  "nbformat_minor": 0,
  "metadata": {
    "colab": {
      "provenance": [],
      "authorship_tag": "ABX9TyPU69PsSXodG0d5zRg1WrhV",
      "include_colab_link": true
    },
    "kernelspec": {
      "name": "python3",
      "display_name": "Python 3"
    },
    "language_info": {
      "name": "python"
    }
  },
  "cells": [
    {
      "cell_type": "markdown",
      "metadata": {
        "id": "view-in-github",
        "colab_type": "text"
      },
      "source": [
        "<a href=\"https://colab.research.google.com/github/Burhan1310/Python_learning/blob/main/district_name_bd.ipynb\" target=\"_parent\"><img src=\"https://colab.research.google.com/assets/colab-badge.svg\" alt=\"Open In Colab\"/></a>"
      ]
    },
    {
      "cell_type": "code",
      "execution_count": 4,
      "metadata": {
        "colab": {
          "base_uri": "https://localhost:8080/"
        },
        "id": "r1nlu-QId9wn",
        "outputId": "e37a6004-4396-4314-f784-5e01783e404c"
      },
      "outputs": [
        {
          "output_type": "stream",
          "name": "stdout",
          "text": [
            "W: Skipping acquire of configured file 'main/source/Sources' as repository 'https://r2u.stat.illinois.edu/ubuntu jammy InRelease' does not seem to provide it (sources.list entry misspelt?)\n"
          ]
        }
      ],
      "source": [
        "# Google-এর Noto ফন্ট প্যাকেজ (এর ভেতর Bengali রয়েছে) ইনস্টল\n",
        "!apt-get update -qq\n",
        "!apt-get install -y fonts-noto  > /dev/null\n",
        "\n",
        "# Pillow up-to-date\n",
        "!pip install -U pillow --quiet\n"
      ]
    },
    {
      "cell_type": "code",
      "source": [
        "from PIL import Image, ImageDraw, ImageFont\n",
        "import os, zipfile, pathlib\n",
        "\n",
        "districts = [\n",
        "    \"কুড়িগ্রাম\",\"লালমনিরহাট\",\"রংপুর\",\"গাইবান্ধা\",\"নীলফামারী\",\"ঠাকুরগাঁও\",\"দিনাজপুর\",\"পঞ্চগড়\",\n",
        "    \"বগুড়া\",\"নাটোর\",\"নওগাঁ\",\"জয়পুরহাট\",\"রাজশাহী\",\"চাঁপাইনবাবগঞ্জ\",\"পাবনা\",\"সিরাজগঞ্জ\",\n",
        "    \"টাঙ্গাইল\",\"মানিকগঞ্জ\",\"ঢাকা\",\"গাজীপুর\",\"নারায়ণগঞ্জ\",\"ময়মনসিংহ\",\"নেত্রকোনা\",\"জামালপুর\",\"শেরপুর\",\n",
        "    \"কিশোরগঞ্জ\",\"নরসিংদী\",\"মাদারীপুর\",\"শরীয়তপুর\",\"মুন্সীগঞ্জ\",\"রাজবাড়ী\",\"ফরিদপুর\",\"গোপালগঞ্জ\",\n",
        "    \"খুলনা\",\"যশোর\",\"ঝিনাইদহ\",\"মাগুরা\",\"নড়াইল\",\"চুয়াডাঙ্গা\",\"কুষ্টিয়া\",\"মেহেরপুর\",\n",
        "    \"সাতক্ষীরা\",\"বাগেরহাট\",\"বরিশাল\",\"পটুয়াখালী\",\"ঝালকাঠি\",\"পিরোজপুর\",\"ভোলা\",\"বরগুনা\",\n",
        "    \"চট্টগ্রাম\",\"কক্সবাজার\",\"বান্দরবান\",\"রাঙামাটি\",\"খাগড়াছড়ি\",\"ফেনী\",\"ব্রাহ্মণবাড়িয়া\",\"কুমিল্লা\",\n",
        "    \"নোয়াখালী\",\"লক্ষ্মীপুর\",\"চাঁদপুর\",\"মৌলভীবাজার\",\"সিলেট\",\"সুনামগঞ্জ\",\"হবিগঞ্জ\"\n",
        "]\n",
        "\n",
        "out_dir = pathlib.Path(\"district_images\")\n",
        "out_dir.mkdir(exist_ok=True)\n",
        "\n",
        "# Noto Sans Bengali font-path\n",
        "font_path = \"/usr/share/fonts/truetype/noto/NotoSansBengali-Regular.ttf\"\n",
        "font_size = 60\n",
        "font = ImageFont.truetype(font_path, font_size)\n",
        "\n",
        "for name in districts:\n",
        "    img = Image.new(\"RGB\", (600, 400), \"white\")\n",
        "    draw = ImageDraw.Draw(img)\n",
        "    # Text size\n",
        "    bbox = draw.textbbox((0,0), name, font=font, anchor=None)\n",
        "    w, h = bbox[2]-bbox[0], bbox[3]-bbox[1]\n",
        "    draw.text(((600-w)/2, (400-h)/2), name, font=font, fill=\"black\")\n",
        "    img.save(out_dir / f\"{name}.png\")\n",
        "\n",
        "print(\"✅ Picture created\")\n"
      ],
      "metadata": {
        "colab": {
          "base_uri": "https://localhost:8080/"
        },
        "id": "m_sI8TS3eBIx",
        "outputId": "52fa6886-27f7-4374-864b-7e8377fd81f6"
      },
      "execution_count": 5,
      "outputs": [
        {
          "output_type": "stream",
          "name": "stdout",
          "text": [
            "✅ Picture created\n"
          ]
        }
      ]
    },
    {
      "cell_type": "code",
      "source": [
        "zip_name = \"district_images.zip\"\n",
        "with zipfile.ZipFile(zip_name,\"w\") as z:\n",
        "    for p in out_dir.glob(\"*.png\"):\n",
        "        z.write(p, p.name)\n",
        "\n",
        "from google.colab import files\n",
        "files.download(zip_name)\n"
      ],
      "metadata": {
        "colab": {
          "base_uri": "https://localhost:8080/",
          "height": 17
        },
        "id": "NUiurUKQeQ2g",
        "outputId": "4187ef0d-598a-4a5c-cff8-2e12362c02b5"
      },
      "execution_count": 3,
      "outputs": [
        {
          "output_type": "display_data",
          "data": {
            "text/plain": [
              "<IPython.core.display.Javascript object>"
            ],
            "application/javascript": [
              "\n",
              "    async function download(id, filename, size) {\n",
              "      if (!google.colab.kernel.accessAllowed) {\n",
              "        return;\n",
              "      }\n",
              "      const div = document.createElement('div');\n",
              "      const label = document.createElement('label');\n",
              "      label.textContent = `Downloading \"${filename}\": `;\n",
              "      div.appendChild(label);\n",
              "      const progress = document.createElement('progress');\n",
              "      progress.max = size;\n",
              "      div.appendChild(progress);\n",
              "      document.body.appendChild(div);\n",
              "\n",
              "      const buffers = [];\n",
              "      let downloaded = 0;\n",
              "\n",
              "      const channel = await google.colab.kernel.comms.open(id);\n",
              "      // Send a message to notify the kernel that we're ready.\n",
              "      channel.send({})\n",
              "\n",
              "      for await (const message of channel.messages) {\n",
              "        // Send a message to notify the kernel that we're ready.\n",
              "        channel.send({})\n",
              "        if (message.buffers) {\n",
              "          for (const buffer of message.buffers) {\n",
              "            buffers.push(buffer);\n",
              "            downloaded += buffer.byteLength;\n",
              "            progress.value = downloaded;\n",
              "          }\n",
              "        }\n",
              "      }\n",
              "      const blob = new Blob(buffers, {type: 'application/binary'});\n",
              "      const a = document.createElement('a');\n",
              "      a.href = window.URL.createObjectURL(blob);\n",
              "      a.download = filename;\n",
              "      div.appendChild(a);\n",
              "      a.click();\n",
              "      div.remove();\n",
              "    }\n",
              "  "
            ]
          },
          "metadata": {}
        },
        {
          "output_type": "display_data",
          "data": {
            "text/plain": [
              "<IPython.core.display.Javascript object>"
            ],
            "application/javascript": [
              "download(\"download_12218302-17da-4483-af6e-82e894a4f3fa\", \"district_images.zip\", 478790)"
            ]
          },
          "metadata": {}
        }
      ]
    },
    {
      "cell_type": "code",
      "source": [],
      "metadata": {
        "id": "DSH5cH0YeTXI"
      },
      "execution_count": null,
      "outputs": []
    }
  ]
}