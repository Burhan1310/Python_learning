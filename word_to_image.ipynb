{
  "nbformat": 4,
  "nbformat_minor": 0,
  "metadata": {
    "colab": {
      "provenance": [],
      "authorship_tag": "ABX9TyMCslBU1M4fdb4sAKY3NOFt",
      "include_colab_link": true
    },
    "kernelspec": {
      "name": "python3",
      "display_name": "Python 3"
    },
    "language_info": {
      "name": "python"
    }
  },
  "cells": [
    {
      "cell_type": "markdown",
      "metadata": {
        "id": "view-in-github",
        "colab_type": "text"
      },
      "source": [
        "<a href=\"https://colab.research.google.com/github/Burhan1310/Python_learning/blob/main/word_to_image.ipynb\" target=\"_parent\"><img src=\"https://colab.research.google.com/assets/colab-badge.svg\" alt=\"Open In Colab\"/></a>"
      ]
    },
    {
      "cell_type": "code",
      "source": [
        "#Upload your font file\n",
        "from google.colab import files\n",
        "uploaded = files.upload()\n"
      ],
      "metadata": {
        "colab": {
          "base_uri": "https://localhost:8080/",
          "height": 73
        },
        "id": "Is0PZN52yCik",
        "outputId": "9dcc0d2a-04e5-4205-b2fa-a699a6941d40"
      },
      "execution_count": 49,
      "outputs": [
        {
          "output_type": "display_data",
          "data": {
            "text/plain": [
              "<IPython.core.display.HTML object>"
            ],
            "text/html": [
              "\n",
              "     <input type=\"file\" id=\"files-6229caff-0a5a-46ae-94ab-c81f36ba3534\" name=\"files[]\" multiple disabled\n",
              "        style=\"border:none\" />\n",
              "     <output id=\"result-6229caff-0a5a-46ae-94ab-c81f36ba3534\">\n",
              "      Upload widget is only available when the cell has been executed in the\n",
              "      current browser session. Please rerun this cell to enable.\n",
              "      </output>\n",
              "      <script>// Copyright 2017 Google LLC\n",
              "//\n",
              "// Licensed under the Apache License, Version 2.0 (the \"License\");\n",
              "// you may not use this file except in compliance with the License.\n",
              "// You may obtain a copy of the License at\n",
              "//\n",
              "//      http://www.apache.org/licenses/LICENSE-2.0\n",
              "//\n",
              "// Unless required by applicable law or agreed to in writing, software\n",
              "// distributed under the License is distributed on an \"AS IS\" BASIS,\n",
              "// WITHOUT WARRANTIES OR CONDITIONS OF ANY KIND, either express or implied.\n",
              "// See the License for the specific language governing permissions and\n",
              "// limitations under the License.\n",
              "\n",
              "/**\n",
              " * @fileoverview Helpers for google.colab Python module.\n",
              " */\n",
              "(function(scope) {\n",
              "function span(text, styleAttributes = {}) {\n",
              "  const element = document.createElement('span');\n",
              "  element.textContent = text;\n",
              "  for (const key of Object.keys(styleAttributes)) {\n",
              "    element.style[key] = styleAttributes[key];\n",
              "  }\n",
              "  return element;\n",
              "}\n",
              "\n",
              "// Max number of bytes which will be uploaded at a time.\n",
              "const MAX_PAYLOAD_SIZE = 100 * 1024;\n",
              "\n",
              "function _uploadFiles(inputId, outputId) {\n",
              "  const steps = uploadFilesStep(inputId, outputId);\n",
              "  const outputElement = document.getElementById(outputId);\n",
              "  // Cache steps on the outputElement to make it available for the next call\n",
              "  // to uploadFilesContinue from Python.\n",
              "  outputElement.steps = steps;\n",
              "\n",
              "  return _uploadFilesContinue(outputId);\n",
              "}\n",
              "\n",
              "// This is roughly an async generator (not supported in the browser yet),\n",
              "// where there are multiple asynchronous steps and the Python side is going\n",
              "// to poll for completion of each step.\n",
              "// This uses a Promise to block the python side on completion of each step,\n",
              "// then passes the result of the previous step as the input to the next step.\n",
              "function _uploadFilesContinue(outputId) {\n",
              "  const outputElement = document.getElementById(outputId);\n",
              "  const steps = outputElement.steps;\n",
              "\n",
              "  const next = steps.next(outputElement.lastPromiseValue);\n",
              "  return Promise.resolve(next.value.promise).then((value) => {\n",
              "    // Cache the last promise value to make it available to the next\n",
              "    // step of the generator.\n",
              "    outputElement.lastPromiseValue = value;\n",
              "    return next.value.response;\n",
              "  });\n",
              "}\n",
              "\n",
              "/**\n",
              " * Generator function which is called between each async step of the upload\n",
              " * process.\n",
              " * @param {string} inputId Element ID of the input file picker element.\n",
              " * @param {string} outputId Element ID of the output display.\n",
              " * @return {!Iterable<!Object>} Iterable of next steps.\n",
              " */\n",
              "function* uploadFilesStep(inputId, outputId) {\n",
              "  const inputElement = document.getElementById(inputId);\n",
              "  inputElement.disabled = false;\n",
              "\n",
              "  const outputElement = document.getElementById(outputId);\n",
              "  outputElement.innerHTML = '';\n",
              "\n",
              "  const pickedPromise = new Promise((resolve) => {\n",
              "    inputElement.addEventListener('change', (e) => {\n",
              "      resolve(e.target.files);\n",
              "    });\n",
              "  });\n",
              "\n",
              "  const cancel = document.createElement('button');\n",
              "  inputElement.parentElement.appendChild(cancel);\n",
              "  cancel.textContent = 'Cancel upload';\n",
              "  const cancelPromise = new Promise((resolve) => {\n",
              "    cancel.onclick = () => {\n",
              "      resolve(null);\n",
              "    };\n",
              "  });\n",
              "\n",
              "  // Wait for the user to pick the files.\n",
              "  const files = yield {\n",
              "    promise: Promise.race([pickedPromise, cancelPromise]),\n",
              "    response: {\n",
              "      action: 'starting',\n",
              "    }\n",
              "  };\n",
              "\n",
              "  cancel.remove();\n",
              "\n",
              "  // Disable the input element since further picks are not allowed.\n",
              "  inputElement.disabled = true;\n",
              "\n",
              "  if (!files) {\n",
              "    return {\n",
              "      response: {\n",
              "        action: 'complete',\n",
              "      }\n",
              "    };\n",
              "  }\n",
              "\n",
              "  for (const file of files) {\n",
              "    const li = document.createElement('li');\n",
              "    li.append(span(file.name, {fontWeight: 'bold'}));\n",
              "    li.append(span(\n",
              "        `(${file.type || 'n/a'}) - ${file.size} bytes, ` +\n",
              "        `last modified: ${\n",
              "            file.lastModifiedDate ? file.lastModifiedDate.toLocaleDateString() :\n",
              "                                    'n/a'} - `));\n",
              "    const percent = span('0% done');\n",
              "    li.appendChild(percent);\n",
              "\n",
              "    outputElement.appendChild(li);\n",
              "\n",
              "    const fileDataPromise = new Promise((resolve) => {\n",
              "      const reader = new FileReader();\n",
              "      reader.onload = (e) => {\n",
              "        resolve(e.target.result);\n",
              "      };\n",
              "      reader.readAsArrayBuffer(file);\n",
              "    });\n",
              "    // Wait for the data to be ready.\n",
              "    let fileData = yield {\n",
              "      promise: fileDataPromise,\n",
              "      response: {\n",
              "        action: 'continue',\n",
              "      }\n",
              "    };\n",
              "\n",
              "    // Use a chunked sending to avoid message size limits. See b/62115660.\n",
              "    let position = 0;\n",
              "    do {\n",
              "      const length = Math.min(fileData.byteLength - position, MAX_PAYLOAD_SIZE);\n",
              "      const chunk = new Uint8Array(fileData, position, length);\n",
              "      position += length;\n",
              "\n",
              "      const base64 = btoa(String.fromCharCode.apply(null, chunk));\n",
              "      yield {\n",
              "        response: {\n",
              "          action: 'append',\n",
              "          file: file.name,\n",
              "          data: base64,\n",
              "        },\n",
              "      };\n",
              "\n",
              "      let percentDone = fileData.byteLength === 0 ?\n",
              "          100 :\n",
              "          Math.round((position / fileData.byteLength) * 100);\n",
              "      percent.textContent = `${percentDone}% done`;\n",
              "\n",
              "    } while (position < fileData.byteLength);\n",
              "  }\n",
              "\n",
              "  // All done.\n",
              "  yield {\n",
              "    response: {\n",
              "      action: 'complete',\n",
              "    }\n",
              "  };\n",
              "}\n",
              "\n",
              "scope.google = scope.google || {};\n",
              "scope.google.colab = scope.google.colab || {};\n",
              "scope.google.colab._files = {\n",
              "  _uploadFiles,\n",
              "  _uploadFilesContinue,\n",
              "};\n",
              "})(self);\n",
              "</script> "
            ]
          },
          "metadata": {}
        },
        {
          "output_type": "stream",
          "name": "stdout",
          "text": [
            "Saving AponaLohit.ttf to AponaLohit.ttf\n"
          ]
        }
      ]
    },
    {
      "cell_type": "code",
      "source": [
        "# make sure your file is in the directory\n",
        "# After upload, you can check the filename\n",
        "import os\n",
        "print(os.listdir())\n"
      ],
      "metadata": {
        "colab": {
          "base_uri": "https://localhost:8080/"
        },
        "id": "OdqSwrIs01Ba",
        "outputId": "65894da7-a239-4cfb-b06a-d26b9ec88eaa"
      },
      "execution_count": 55,
      "outputs": [
        {
          "output_type": "stream",
          "name": "stdout",
          "text": [
            "['.config', 'bd_number_plate_Mukti.zip', 'SolaimanLipi_22-02-2012.ttf', 'district_images.zip', 'bd_number_plate_kalpurush.zip', 'Siyam Rupali Regular.ttf', 'SiyamRupali.ttf', 'SolaimanLipi.zip', 'district_images', 'Mukti_1.99_PR.ttf', 'Nikosh.ttf', 'AponaLohit.ttf', 'AdorshoLipi_20-07-2007.ttf', 'district_images_trimmed', 'kalpurush.ttf', 'Siyamrupali.ttf', 'BenSenHandwriting.ttf', 'bd_number_plate_AponaLohit.zip', 'bd_number_plate_SiyamRupali.zip', 'bd_number_plate_AdorshoLipi.zip', 'bd_number_plate_Nikosh.zip', 'sample_data']\n"
          ]
        }
      ]
    },
    {
      "cell_type": "code",
      "source": [
        "from PIL import Image, ImageDraw, ImageFont\n",
        "import os, pathlib\n",
        "\n",
        "districts = [\n",
        "    \"কুড়িগ্রাম\",\"লালমনিরহাট\",\"রংপুর\",\"গাইবান্ধা\",\"নীলফামারী\",\"ঠাকুরগাঁও\",\"দিনাজপুর\",\"পঞ্চগড়\",\n",
        "    \"বগুড়া\",\"নাটোর\",\"নওগাঁ\",\"জয়পুরহাট\",\"রাজশাহী\",\"চাঁপাইনবাবগঞ্জ\",\"পাবনা\",\"সিরাজগঞ্জ\",\n",
        "    \"টাঙ্গাইল\",\"মানিকগঞ্জ\",\"ঢাকা\",\"গাজীপুর\",\"নারায়ণগঞ্জ\",\"ময়মনসিংহ\",\"নেত্রকোনা\",\"জামালপুর\",\"শেরপুর\",\n",
        "    \"কিশোরগঞ্জ\",\"নরসিংদী\",\"মাদারীপুর\",\"শরীয়তপুর\",\"মুন্সীগঞ্জ\",\"রাজবাড়ী\",\"ফরিদপুর\",\"গোপালগঞ্জ\",\n",
        "    \"খুলনা\",\"যশোর\",\"ঝিনাইদহ\",\"মাগুরা\",\"নড়াইল\",\"চুয়াডাঙ্গা\",\"কুষ্টিয়া\",\"মেহেরপুর\",\n",
        "    \"সাতক্ষীরা\",\"বাগেরহাট\",\"বরিশাল\",\"পটুয়াখালী\",\"ঝালকাঠি\",\"পিরোজপুর\",\"ভোলা\",\"বরগুনা\",\n",
        "    \"চট্টগ্রাম\",\"কক্সবাজার\",\"বান্দরবান\",\"রাঙামাটি\",\"খাগড়াছড়ি\",\"ফেনী\",\"ব্রাহ্মণবাড়িয়া\",\"কুমিল্লা\",\n",
        "    \"নোয়াখালী\",\"লক্ষ্মীপুর\",\"চাঁদপুর\",\"মৌলভীবাজার\",\"সিলেট\",\"সুনামগঞ্জ\",\"হবিগঞ্জ\",\n",
        "\n",
        "    # Bangla characters\n",
        "    \"অ\",\"ই\",\"উ\",\"এ\",\"ক\",\"খ\",\"গ\",\"ঘ\",\"ঙ\",\"চ\",\"ছ\",\"জ\",\"ঝ\",\"ট\",\"ঠ\",\"ড\",\"ঢ\",\"ত\",\"থ\",\"দ\",\n",
        "    \"ন\",\"প\",\"ফ\",\"ব\",\"ভ\",\"ম\",\"য\",\"র\",\"ল\",\"শ\",\"স\",\"হ\",\n",
        "\n",
        "    # Digits\n",
        "    \"০\",\"১\",\"২\",\"৩\",\"৪\",\"৫\",\"৬\",\"৭\",\"৮\",\"৯\"\n",
        "]\n",
        "\n",
        "out_dir = pathlib.Path(\"district_images_trimmed\")\n",
        "out_dir.mkdir(exist_ok=True)\n",
        "\n",
        "# Font path and settings\n",
        "font_path = \"AponaLohit.ttf\"  # Make sure this font is available\n",
        "font_size = 60\n",
        "font = ImageFont.truetype(font_path, font_size)\n",
        "\n",
        "padding = 20  # Keep some padding around the text\n",
        "\n",
        "for name in districts:\n",
        "    # Create a temporary image for measuring text size\n",
        "    temp_img = Image.new(\"RGB\", (1000, 300), \"white\")\n",
        "    draw = ImageDraw.Draw(temp_img)\n",
        "\n",
        "    # Get text bounding box\n",
        "    bbox = draw.textbbox((0, 0), name, font=font)\n",
        "    text_width = bbox[2] - bbox[0]\n",
        "    text_height = bbox[3] - bbox[1]\n",
        "\n",
        "    # Determine new image size based on text size\n",
        "    img_width = text_width + 2 * padding\n",
        "    img_height = text_height + 2 * padding\n",
        "\n",
        "    final_img = Image.new(\"RGB\", (img_width, img_height), \"white\")\n",
        "    draw_final = ImageDraw.Draw(final_img)\n",
        "\n",
        "    # Draw the text\n",
        "    draw_final.text((padding, padding), name, font=font, fill=\"black\")\n",
        "\n",
        "    # Save the image\n",
        "    final_img.save(out_dir / f\"{name}.png\")\n",
        "\n",
        "print(\"✅ All images have been successfully created with proper padding and size!\")\n"
      ],
      "metadata": {
        "colab": {
          "base_uri": "https://localhost:8080/"
        },
        "id": "vUm04VcQxgNm",
        "outputId": "1e2e3371-cdb0-43da-c687-39d761ad52ef"
      },
      "execution_count": 52,
      "outputs": [
        {
          "output_type": "stream",
          "name": "stdout",
          "text": [
            "✅ All images have been successfully created with proper padding and size!\n"
          ]
        }
      ]
    },
    {
      "cell_type": "code",
      "source": [
        "import zipfile\n",
        "\n",
        "# Define the name of the zip file to be created\n",
        "zip_name = \"bd_number_plate_AponaLohit.zip\"\n",
        "\n",
        "# Create a zip archive and add all PNG images from the output directory\n",
        "with zipfile.ZipFile(zip_name, \"w\") as z:\n",
        "    for p in out_dir.glob(\"*.png\"):\n",
        "        z.write(p, p.name)  # Add image to zip with only the filename (no folder path)\n",
        "\n",
        "# Import Colab file module for downloading\n",
        "from google.colab import files\n",
        "\n",
        "# Download the zip file to the local machine\n",
        "files.download(zip_name)\n"
      ],
      "metadata": {
        "colab": {
          "base_uri": "https://localhost:8080/",
          "height": 17
        },
        "id": "LmLs-xH9xga2",
        "outputId": "dd6b6aba-3f7b-42cd-ad5d-eeb065d065b5"
      },
      "execution_count": 51,
      "outputs": [
        {
          "output_type": "display_data",
          "data": {
            "text/plain": [
              "<IPython.core.display.Javascript object>"
            ],
            "application/javascript": [
              "\n",
              "    async function download(id, filename, size) {\n",
              "      if (!google.colab.kernel.accessAllowed) {\n",
              "        return;\n",
              "      }\n",
              "      const div = document.createElement('div');\n",
              "      const label = document.createElement('label');\n",
              "      label.textContent = `Downloading \"${filename}\": `;\n",
              "      div.appendChild(label);\n",
              "      const progress = document.createElement('progress');\n",
              "      progress.max = size;\n",
              "      div.appendChild(progress);\n",
              "      document.body.appendChild(div);\n",
              "\n",
              "      const buffers = [];\n",
              "      let downloaded = 0;\n",
              "\n",
              "      const channel = await google.colab.kernel.comms.open(id);\n",
              "      // Send a message to notify the kernel that we're ready.\n",
              "      channel.send({})\n",
              "\n",
              "      for await (const message of channel.messages) {\n",
              "        // Send a message to notify the kernel that we're ready.\n",
              "        channel.send({})\n",
              "        if (message.buffers) {\n",
              "          for (const buffer of message.buffers) {\n",
              "            buffers.push(buffer);\n",
              "            downloaded += buffer.byteLength;\n",
              "            progress.value = downloaded;\n",
              "          }\n",
              "        }\n",
              "      }\n",
              "      const blob = new Blob(buffers, {type: 'application/binary'});\n",
              "      const a = document.createElement('a');\n",
              "      a.href = window.URL.createObjectURL(blob);\n",
              "      a.download = filename;\n",
              "      div.appendChild(a);\n",
              "      a.click();\n",
              "      div.remove();\n",
              "    }\n",
              "  "
            ]
          },
          "metadata": {}
        },
        {
          "output_type": "display_data",
          "data": {
            "text/plain": [
              "<IPython.core.display.Javascript object>"
            ],
            "application/javascript": [
              "download(\"download_6c156595-78e8-467d-8f1c-afe5e76e5197\", \"bd_number_plate_AponaLohit.zip\", 384856)"
            ]
          },
          "metadata": {}
        }
      ]
    },
    {
      "cell_type": "code",
      "source": [],
      "metadata": {
        "id": "xWXAsmmDxgdV"
      },
      "execution_count": null,
      "outputs": []
    },
    {
      "cell_type": "code",
      "source": [],
      "metadata": {
        "id": "01JoFTdixggO"
      },
      "execution_count": null,
      "outputs": []
    },
    {
      "cell_type": "code",
      "source": [],
      "metadata": {
        "id": "luLjdBYcxgjW"
      },
      "execution_count": null,
      "outputs": []
    }
  ]
}