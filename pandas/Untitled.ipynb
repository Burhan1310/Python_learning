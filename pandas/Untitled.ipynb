{
 "cells": [
  {
   "cell_type": "code",
   "execution_count": 3,
   "id": "92954c49",
   "metadata": {},
   "outputs": [],
   "source": [
    "import pandas as pd\n",
    "df_stocks = pd.DataFrame({\n",
    "    'tickers' : ['GOOGLE', 'WMT', 'MSFT'],\n",
    "    'price' : [7534, 567, 875],\n",
    "    'pe' : [30.45, 16.87, 2.16],\n",
    "    'eps' : [27.89, 4.75, 2.12]\n",
    "})\n",
    "\n",
    "df_weather = pd.DataFrame({\n",
    "    'day' : ['saturday', 'sunday', 'monday'],\n",
    "    'temperature' : [32, 34, 28],\n",
    "    'event' : ['rain', 'Sunny', 'Snow']\n",
    "})"
   ]
  },
  {
   "cell_type": "code",
   "execution_count": null,
   "id": "d420a4a3",
   "metadata": {},
   "outputs": [],
   "source": []
  }
 ],
 "metadata": {
  "kernelspec": {
   "display_name": "Python 3 (ipykernel)",
   "language": "python",
   "name": "python3"
  },
  "language_info": {
   "codemirror_mode": {
    "name": "ipython",
    "version": 3
   },
   "file_extension": ".py",
   "mimetype": "text/x-python",
   "name": "python",
   "nbconvert_exporter": "python",
   "pygments_lexer": "ipython3",
   "version": "3.10.9"
  }
 },
 "nbformat": 4,
 "nbformat_minor": 5
}
